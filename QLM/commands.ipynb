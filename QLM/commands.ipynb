{
 "cells": [
  {
   "cell_type": "markdown",
   "metadata": {},
   "source": [
    "# QLM Commands\n",
    "\n",
    "The QLM set of python libraries also comes with a set of command line scripts.\n",
    "\n",
    "\n",
    "## Compiler Commands\n",
    "These commands are used to compile AQASM code into a circuit that can be run with the QLM quantum simulators. They can also be used to convert a quantum circuit to AQASM code so that an existing circuit can be modified.\n",
    "\n",
    "### aqasm2circ\n",
    "\n",
    "This is the main compiler of the QLM. Its converts Atos Quantum Assembly Language (AQASM) into a useable Quantum Circuit for our simulators. \n",
    "The command takes one or two arguments, an input file and optionally an output file. If no output file is supplied the output will be the input file appended with ``.circ`` .\n",
    "\n",
    "Usage:"
   ]
  },
  {
   "cell_type": "code",
   "execution_count": null,
   "metadata": {
    "execution": {
     "iopub.execute_input": "2023-07-31T23:05:46.807901Z",
     "iopub.status.busy": "2023-07-31T23:05:46.807717Z",
     "iopub.status.idle": "2023-07-31T23:05:48.715492Z",
     "shell.execute_reply": "2023-07-31T23:05:48.715112Z"
    }
   },
   "outputs": [],
   "source": [
    "%%bash\n",
    "aqasm2circ --help"
   ]
  },
  {
   "cell_type": "markdown",
   "metadata": {},
   "source": [
    "For example, let us dump an AQASM circuit into a file `test1.aqasm`:"
   ]
  },
  {
   "cell_type": "code",
   "execution_count": null,
   "metadata": {
    "execution": {
     "iopub.execute_input": "2023-07-31T23:05:48.717656Z",
     "iopub.status.busy": "2023-07-31T23:05:48.717459Z",
     "iopub.status.idle": "2023-07-31T23:05:48.720369Z",
     "shell.execute_reply": "2023-07-31T23:05:48.720049Z"
    }
   },
   "outputs": [],
   "source": [
    "%%writefile test1.aqasm\n",
    "BEGIN\n",
    "qubits 2\n",
    "cbits 1\n",
    "\n",
    "H q[0]\n",
    "MEAS q[0] c[0]\n",
    "?c[0]: X q[1]\n",
    "END"
   ]
  },
  {
   "cell_type": "markdown",
   "metadata": {},
   "source": [
    "And let us call the `aqasm2circ` compiler on the file:"
   ]
  },
  {
   "cell_type": "code",
   "execution_count": null,
   "metadata": {
    "execution": {
     "iopub.execute_input": "2023-07-31T23:05:48.721938Z",
     "iopub.status.busy": "2023-07-31T23:05:48.721776Z",
     "iopub.status.idle": "2023-07-31T23:05:52.400418Z",
     "shell.execute_reply": "2023-07-31T23:05:52.400054Z"
    }
   },
   "outputs": [],
   "source": [
    "%%bash\n",
    "\n",
    "# Write a file named input_filename.circ (test1.aqasm in our example)\n",
    "aqasm2circ test1.aqasm\n",
    "# Write a file name \"test.circ\"\n",
    "aqasm2circ test1.aqasm test.circ\n",
    "ls *.circ"
   ]
  },
  {
   "cell_type": "markdown",
   "metadata": {},
   "source": [
    "The generated files are used as the input to one of the various simulators provided in the QLM environment.\n",
    "\n",
    "### circ2aqasm\n",
    "\n",
    "This is the main decompiler for QLM which will take a Quantum Circuit file and return the resulting Atos Quantum Assembly Language (AQASM) file used to generate the circuit. The command takes one or two arguments, an input file and optionally an output file. If no output file is supplied the output will be the input file appended with ``.aqasm``."
   ]
  },
  {
   "cell_type": "code",
   "execution_count": null,
   "metadata": {
    "execution": {
     "iopub.execute_input": "2023-07-31T23:05:52.402152Z",
     "iopub.status.busy": "2023-07-31T23:05:52.401952Z",
     "iopub.status.idle": "2023-07-31T23:05:54.260475Z",
     "shell.execute_reply": "2023-07-31T23:05:54.260058Z"
    }
   },
   "outputs": [],
   "source": [
    "%%bash\n",
    "circ2aqasm --help"
   ]
  },
  {
   "cell_type": "markdown",
   "metadata": {},
   "source": [
    " For Example:"
   ]
  },
  {
   "cell_type": "code",
   "execution_count": null,
   "metadata": {
    "execution": {
     "iopub.execute_input": "2023-07-31T23:05:54.262762Z",
     "iopub.status.busy": "2023-07-31T23:05:54.262568Z",
     "iopub.status.idle": "2023-07-31T23:05:56.242219Z",
     "shell.execute_reply": "2023-07-31T23:05:56.241832Z"
    }
   },
   "outputs": [],
   "source": [
    "%%bash\n",
    "circ2aqasm test.circ\n",
    "cat test.circ.aqasm"
   ]
  },
  {
   "cell_type": "markdown",
   "metadata": {},
   "source": [
    "## Simulator Commands\n",
    "\n",
    "It is also possible to call any QPU and Plugin stack from the command line using the `qat-jobrun` and `qat-batchrun` commands.\n",
    "\n",
    "### qat-jobrun and qat-batchrun\n",
    "\n",
    "This command will deserialize a job (or a batch) and run it via some execution stack"
   ]
  },
  {
   "cell_type": "code",
   "execution_count": null,
   "metadata": {
    "execution": {
     "iopub.execute_input": "2023-07-31T23:05:56.244076Z",
     "iopub.status.busy": "2023-07-31T23:05:56.243879Z",
     "iopub.status.idle": "2023-07-31T23:05:57.003684Z",
     "shell.execute_reply": "2023-07-31T23:05:57.003302Z"
    }
   },
   "outputs": [],
   "source": [
    "%%bash\n",
    "qat-jobrun --help"
   ]
  },
  {
   "cell_type": "code",
   "execution_count": null,
   "metadata": {
    "execution": {
     "iopub.execute_input": "2023-07-31T23:05:57.005828Z",
     "iopub.status.busy": "2023-07-31T23:05:57.005638Z",
     "iopub.status.idle": "2023-07-31T23:05:57.758354Z",
     "shell.execute_reply": "2023-07-31T23:05:57.757935Z"
    }
   },
   "outputs": [],
   "source": [
    "%%bash\n",
    "qat-batchrun --help"
   ]
  },
  {
   "cell_type": "markdown",
   "metadata": {},
   "source": [
    "QPUs and Plugins are referred to using the `namespace:class_name` convention."
   ]
  },
  {
   "cell_type": "code",
   "execution_count": null,
   "metadata": {
    "execution": {
     "iopub.execute_input": "2023-07-31T23:05:57.760899Z",
     "iopub.status.busy": "2023-07-31T23:05:57.760693Z",
     "iopub.status.idle": "2023-07-31T23:05:58.208422Z",
     "shell.execute_reply": "2023-07-31T23:05:58.207742Z"
    }
   },
   "outputs": [],
   "source": [
    "from qat.core import Circuit, Batch\n",
    "circuit = Circuit.load(\"test.circ\")\n",
    "job = circuit.to_job()\n",
    "job.dump(\"test.job\")\n",
    "batch = Batch(jobs=[job]*3)\n",
    "batch.dump(\"test.batch\")"
   ]
  },
  {
   "cell_type": "code",
   "execution_count": null,
   "metadata": {
    "execution": {
     "iopub.execute_input": "2023-07-31T23:05:58.210954Z",
     "iopub.status.busy": "2023-07-31T23:05:58.210650Z",
     "iopub.status.idle": "2023-07-31T23:05:58.975911Z",
     "shell.execute_reply": "2023-07-31T23:05:58.975479Z"
    }
   },
   "outputs": [],
   "source": [
    "%%bash\n",
    "qat-jobrun --qpu qat.pylinalg:PyLinalg test.job"
   ]
  },
  {
   "cell_type": "markdown",
   "metadata": {},
   "source": [
    "It is possible to dump the results in a binary file instead of having to parse the stdout:"
   ]
  },
  {
   "cell_type": "code",
   "execution_count": null,
   "metadata": {
    "execution": {
     "iopub.execute_input": "2023-07-31T23:05:58.978292Z",
     "iopub.status.busy": "2023-07-31T23:05:58.978088Z",
     "iopub.status.idle": "2023-07-31T23:05:59.747794Z",
     "shell.execute_reply": "2023-07-31T23:05:59.747340Z"
    }
   },
   "outputs": [],
   "source": [
    "%%bash\n",
    "qat-jobrun --qpu qat.pylinalg:PyLinalg test.job -o jobres.res"
   ]
  },
  {
   "cell_type": "markdown",
   "metadata": {},
   "source": [
    "The same goes for the `qat-batchrun` script:"
   ]
  },
  {
   "cell_type": "code",
   "execution_count": null,
   "metadata": {
    "execution": {
     "iopub.execute_input": "2023-07-31T23:05:59.750429Z",
     "iopub.status.busy": "2023-07-31T23:05:59.750215Z",
     "iopub.status.idle": "2023-07-31T23:06:00.525441Z",
     "shell.execute_reply": "2023-07-31T23:06:00.525054Z"
    }
   },
   "outputs": [],
   "source": [
    "%%bash\n",
    "qat-batchrun --qpu qat.pylinalg:PyLinalg test.batch"
   ]
  },
  {
   "cell_type": "code",
   "execution_count": null,
   "metadata": {
    "execution": {
     "iopub.execute_input": "2023-07-31T23:06:00.527358Z",
     "iopub.status.busy": "2023-07-31T23:06:00.527169Z",
     "iopub.status.idle": "2023-07-31T23:06:01.280670Z",
     "shell.execute_reply": "2023-07-31T23:06:01.280238Z"
    }
   },
   "outputs": [],
   "source": [
    "%%bash\n",
    "qat-batchrun --qpu qat.pylinalg:PyLinalg test.batch -o batchres.res"
   ]
  },
  {
   "cell_type": "markdown",
   "metadata": {},
   "source": [
    "### qat-resprint\n",
    "\n",
    "Naturally, there is a command to display a dumped result in the stdout:"
   ]
  },
  {
   "cell_type": "code",
   "execution_count": null,
   "metadata": {
    "execution": {
     "iopub.execute_input": "2023-07-31T23:06:01.282937Z",
     "iopub.status.busy": "2023-07-31T23:06:01.282744Z",
     "iopub.status.idle": "2023-07-31T23:06:02.039240Z",
     "shell.execute_reply": "2023-07-31T23:06:02.038778Z"
    }
   },
   "outputs": [],
   "source": [
    "%%bash\n",
    "qat-resprint --help"
   ]
  },
  {
   "cell_type": "code",
   "execution_count": null,
   "metadata": {
    "execution": {
     "iopub.execute_input": "2023-07-31T23:06:02.041615Z",
     "iopub.status.busy": "2023-07-31T23:06:02.041420Z",
     "iopub.status.idle": "2023-07-31T23:06:02.791350Z",
     "shell.execute_reply": "2023-07-31T23:06:02.790908Z"
    }
   },
   "outputs": [],
   "source": [
    "%%bash\n",
    "qat-resprint jobres.res -N 2"
   ]
  },
  {
   "cell_type": "code",
   "execution_count": null,
   "metadata": {
    "execution": {
     "iopub.execute_input": "2023-07-31T23:06:02.793488Z",
     "iopub.status.busy": "2023-07-31T23:06:02.793298Z",
     "iopub.status.idle": "2023-07-31T23:06:03.532619Z",
     "shell.execute_reply": "2023-07-31T23:06:03.532191Z"
    }
   },
   "outputs": [],
   "source": [
    "%%bash\n",
    "qat-resprint -b batchres.res -N 2"
   ]
  },
  {
   "cell_type": "markdown",
   "metadata": {},
   "source": [
    "### qat-circstat\n",
    "\n",
    "This command display some statistics about a serialized circuit. The output is pretty straightforward to interpretate:"
   ]
  },
  {
   "cell_type": "code",
   "execution_count": null,
   "metadata": {
    "execution": {
     "iopub.execute_input": "2023-07-31T23:06:03.534881Z",
     "iopub.status.busy": "2023-07-31T23:06:03.534679Z",
     "iopub.status.idle": "2023-07-31T23:06:04.277947Z",
     "shell.execute_reply": "2023-07-31T23:06:04.277539Z"
    }
   },
   "outputs": [],
   "source": [
    "%%bash\n",
    "qat-circstat test.circ"
   ]
  }
 ],
 "metadata": {
  "authors": [
   "Simon Martiel",
   "Jerome Pioux"
  ],
  "documentation-tags": {
   "icon": ":material-outlined:`terminal;3em`"
  },
  "kernelspec": {
   "display_name": "Python 3 (ipykernel)",
   "language": "python",
   "name": "python3"
  },
  "language_info": {
   "codemirror_mode": {
    "name": "ipython",
    "version": 3
   },
   "file_extension": ".py",
   "mimetype": "text/x-python",
   "name": "python",
   "nbconvert_exporter": "python",
   "pygments_lexer": "ipython3",
   "version": "3.11.3"
  }
 },
 "nbformat": 4,
 "nbformat_minor": 1
}
