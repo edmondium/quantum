{
 "cells": [
  {
   "cell_type": "markdown",
   "metadata": {},
   "source": [
    "# Quantum chemistry: Solving H2 using UCC\n",
    "\n",
    "The **Variational Quantum Eigensolver** method solves the following minimization problem :\n",
    "$$\n",
    "E = \\min_{\\vec{\\theta}}\\; \\langle \\psi(\\vec{\\theta}) \\,|\\, \\hat{H} \\,|\\, \\psi(\\vec{\\theta}) \\rangle\n",
    "$$\n",
    "\n",
    "Here, we use a **Unitary Coupled Cluster** trial state, of the form:\n",
    "$$\n",
    "|\\psi(\\vec{\\theta})\\rangle = e^{\\hat{T}(\\vec{\\theta}) - \\hat{T}^\\dagger(\\vec{\\theta})} |0\\rangle\n",
    "$$\n",
    "where $\\hat{T}(\\theta)$ is the *cluster operator*: \n",
    "$$\n",
    "\\hat{T}(\\vec{\\theta}) = \\hat{T}_1(\\vec{\\theta}) + \\hat{T}_2(\\vec{\\theta}) + \\cdots\n",
    "$$\n",
    "where\n",
    "$$\n",
    "\\hat{T}_1 = \\sum_{a\\in U}\\sum_{i \\in O} \\theta_a^i\\, \\hat{a}_a^\\dagger \\hat{a}_i \\qquad\n",
    "\\hat{T}_2 = \\sum_{a>b\\in U}\\sum_{i>j\\in O} \\theta_{a, b}^{i, j}\\, \\hat{a}^\\dagger_a \\hat{a}^\\dagger_b \\hat{a}_i \\hat{a}_j \\qquad\n",
    "\\cdots\n",
    "$$\n",
    "($O$ is the set of occupied orbitals and $U$, the set of unoccupied ones.)"
   ]
  },
  {
   "cell_type": "markdown",
   "metadata": {},
   "source": [
    "## The $H_2$ molecule\n",
    "\n",
    "One has to first describe the geometry and atomic content of the molecule (in this case, $H_2$).\n",
    "\n",
    "We chose to study dihydrogen in the so-called STO-3G basis at 0.7414 Angström (internuclear distance.)"
   ]
  },
  {
   "cell_type": "markdown",
   "metadata": {},
   "source": [
    "We extract the data from the included resource file. These data were computed using the PySCF package."
   ]
  },
  {
   "cell_type": "code",
   "execution_count": null,
   "metadata": {
    "execution": {
     "iopub.execute_input": "2023-07-31T23:06:33.492817Z",
     "iopub.status.busy": "2023-07-31T23:06:33.492675Z",
     "iopub.status.idle": "2023-07-31T23:06:33.722693Z",
     "shell.execute_reply": "2023-07-31T23:06:33.722297Z"
    }
   },
   "outputs": [],
   "source": [
    "import numpy as np\n",
    "\n",
    "h2_data = np.load(\"h2_data.npz\", allow_pickle=True)\n",
    "\n",
    "rdm1 = h2_data[\"rdm1\"]\n",
    "orbital_energies = h2_data[\"orbital_energies\"]\n",
    "nuclear_repulsion = h2_data[\"nuclear_repulsion\"]\n",
    "n_electrons = h2_data[\"n_electrons\"]\n",
    "one_body_integrals = h2_data[\"one_body_integrals\"]\n",
    "two_body_integrals = h2_data[\"two_body_integrals\"]\n",
    "info = h2_data[\"info\"].tolist()\n",
    "\n",
    "nqbits = rdm1.shape[0] * 2\n",
    "\n",
    "print(\n",
    "    f\" HF energy :  {info['HF']}\\n\",\n",
    "    f\"MP2 energy : {info['MP2']}\\n\",\n",
    "    f\"FCI energy : {info['FCI']}\\n\",\n",
    ")\n",
    "print(f\"Number of qubits before active space selection = {rdm1.shape[0] * 2}\")\n",
    "print(\"Number of qubits = \", nqbits)"
   ]
  },
  {
   "cell_type": "markdown",
   "metadata": {},
   "source": [
    "### Note: PySCF\n",
    "\n",
    "If you have the PySCF package installed, you can do the previous computation yourself using our `perform_pyscf_computation`function.\n",
    "\n",
    "```python\n",
    "from qat.fermion.chemistry.pyscf_tools import perform_pyscf_computation\n",
    "\n",
    "geometry = [(\"H\", (0.0, 0.0, 0.0)), (\"H\", (0.0, 0.0, 0.7414))]\n",
    "basis = \"sto-3g\"\n",
    "spin = 0\n",
    "charge = 0\n",
    "\n",
    "(\n",
    "    rdm1,\n",
    "    orbital_energies,\n",
    "    nuclear_repulsion,\n",
    "    n_electrons,\n",
    "    one_body_integrals,\n",
    "    two_body_integrals,\n",
    "    info,\n",
    ") = perform_pyscf_computation(geometry=geometry, basis=basis, spin=spin, charge=charge, run_fci=True)\n",
    "\n",
    "print(\n",
    "    f\" HF energy :  {info['HF']}\\n\",\n",
    "    f\"MP2 energy : {info['MP2']}\\n\",\n",
    "    f\"FCI energy : {info['FCI']}\\n\",\n",
    ")\n",
    "print(f\"Number of qubits before active space selection = {rdm1.shape[0] * 2}\")\n",
    "\n",
    "nqbits = rdm1.shape[0] * 2\n",
    "print(\"Number of qubits = \", nqbits)\n",
    "```"
   ]
  },
  {
   "cell_type": "markdown",
   "metadata": {},
   "source": [
    "#### As we will see below, it can be useful to wrap the hamiltonian data into the `MolecularHamiltonian` class."
   ]
  },
  {
   "cell_type": "code",
   "execution_count": null,
   "metadata": {
    "execution": {
     "iopub.execute_input": "2023-07-31T23:06:33.750215Z",
     "iopub.status.busy": "2023-07-31T23:06:33.749873Z",
     "iopub.status.idle": "2023-07-31T23:06:34.965351Z",
     "shell.execute_reply": "2023-07-31T23:06:34.964743Z"
    }
   },
   "outputs": [],
   "source": [
    "from qat.fermion.chemistry import MolecularHamiltonian, MoleculeInfo\n",
    "\n",
    "# Define the molecular hamiltonian\n",
    "mol_h = MolecularHamiltonian(one_body_integrals, two_body_integrals, nuclear_repulsion)\n",
    "\n",
    "print(mol_h)"
   ]
  },
  {
   "cell_type": "markdown",
   "metadata": {},
   "source": [
    "## Computation of cluster operators $T$ and good guess $\\vec{\\theta}_0$\n",
    "\n",
    "We now construct the cluster operators (``cluster_ops``) defined in the introduction part as $\\hat{T}(\\vec{\\theta})$, as well as a good starting parameter $\\vec{\\theta}$ (based on the second order Møller-Plesset perturbation theory)."
   ]
  },
  {
   "cell_type": "code",
   "execution_count": null,
   "metadata": {
    "execution": {
     "iopub.execute_input": "2023-07-31T23:06:34.967556Z",
     "iopub.status.busy": "2023-07-31T23:06:34.967273Z",
     "iopub.status.idle": "2023-07-31T23:06:34.973633Z",
     "shell.execute_reply": "2023-07-31T23:06:34.973254Z"
    }
   },
   "outputs": [],
   "source": [
    "from qat.fermion.chemistry.ucc import guess_init_params, get_hf_ket, get_cluster_ops\n",
    "\n",
    "# Computation of the initial parameters\n",
    "theta_init = guess_init_params(\n",
    "    mol_h.two_body_integrals,\n",
    "    n_electrons,\n",
    "    orbital_energies,\n",
    ")\n",
    "\n",
    "print(f\"List of initial parameters : {theta_init}\")\n",
    "\n",
    "# Define the initial Hartree-Fock state\n",
    "ket_hf_init = get_hf_ket(n_electrons, nqbits=nqbits)\n",
    "\n",
    "# Compute the cluster operators\n",
    "cluster_ops = get_cluster_ops(n_electrons, nqbits=nqbits)"
   ]
  },
  {
   "cell_type": "markdown",
   "metadata": {},
   "source": [
    "## Encode to qubits: Fermion-spin transformation\n",
    "\n",
    "All the above operators are fermion operators. We now transform them to spin (or qubit) space. There are different possible choices. Here, we choose the Jordan-Wigner transform (the commented out imports show how to use the other transforms that are available on the QLM)."
   ]
  },
  {
   "cell_type": "code",
   "execution_count": null,
   "metadata": {
    "execution": {
     "iopub.execute_input": "2023-07-31T23:06:34.975620Z",
     "iopub.status.busy": "2023-07-31T23:06:34.975295Z",
     "iopub.status.idle": "2023-07-31T23:06:34.999976Z",
     "shell.execute_reply": "2023-07-31T23:06:34.999586Z"
    }
   },
   "outputs": [],
   "source": [
    "from qat.fermion.transforms import transform_to_jw_basis  # , transform_to_bk_basis, transform_to_parity_basis\n",
    "from qat.fermion.transforms import recode_integer, get_jw_code  # , get_bk_code, get_parity_code\n",
    "\n",
    "# Compute the ElectronicStructureHamiltonian\n",
    "H = mol_h.get_electronic_hamiltonian()"
   ]
  },
  {
   "cell_type": "code",
   "execution_count": null,
   "metadata": {
    "execution": {
     "iopub.execute_input": "2023-07-31T23:06:35.001756Z",
     "iopub.status.busy": "2023-07-31T23:06:35.001583Z",
     "iopub.status.idle": "2023-07-31T23:06:35.147679Z",
     "shell.execute_reply": "2023-07-31T23:06:35.147275Z"
    }
   },
   "outputs": [],
   "source": [
    "# Transform the ElectronicStructureHamiltonian into a spin Hamiltonian\n",
    "H_sp = transform_to_jw_basis(H)\n",
    "\n",
    "# Express the cluster operator in spin terms\n",
    "cluster_ops_sp = [transform_to_jw_basis(t_o) for t_o in cluster_ops]\n",
    "\n",
    "# Encoding the initial state to new encoding\n",
    "hf_init_sp = recode_integer(ket_hf_init, get_jw_code(H_sp.nbqbits))"
   ]
  },
  {
   "cell_type": "markdown",
   "metadata": {},
   "source": [
    "## Trotterize the Hamiltonian to get the parameterized circuit to optimize"
   ]
  },
  {
   "cell_type": "code",
   "execution_count": null,
   "metadata": {
    "execution": {
     "iopub.execute_input": "2023-07-31T23:06:35.150194Z",
     "iopub.status.busy": "2023-07-31T23:06:35.149984Z",
     "iopub.status.idle": "2023-07-31T23:06:35.177143Z",
     "shell.execute_reply": "2023-07-31T23:06:35.176788Z"
    }
   },
   "outputs": [],
   "source": [
    "from qat.lang.AQASM import Program, X\n",
    "from qat.fermion.trotterisation import make_trotterisation_routine\n",
    "\n",
    "prog = Program()\n",
    "reg = prog.qalloc(H_sp.nbqbits)\n",
    "\n",
    "# Initialize the Hartree-Fock state into the Program\n",
    "for j, char in enumerate(format(hf_init_sp, \"0\" + str(H_sp.nbqbits) + \"b\")):\n",
    "    if char == \"1\":\n",
    "        prog.apply(X, reg[j])\n",
    "\n",
    "# Define the parameters to optimize\n",
    "theta_list = [prog.new_var(float, \"\\\\theta_{%s}\" % i) for i in range(len(cluster_ops))]\n",
    "\n",
    "# Define the parameterized Hamiltonian\n",
    "cluster_op = sum([theta * T for theta, T in zip(theta_list, cluster_ops_sp)])\n",
    "\n",
    "# Trotterize the Hamiltonian (with 1 trotter step)\n",
    "qrout = make_trotterisation_routine(cluster_op, n_trotter_steps=1, final_time=1)\n",
    "\n",
    "prog.apply(qrout, reg)\n",
    "circ = prog.to_circ()"
   ]
  },
  {
   "cell_type": "markdown",
   "metadata": {},
   "source": [
    "Alternatively, you can simply use the `construct_ucc_ansatz` fonction:"
   ]
  },
  {
   "cell_type": "code",
   "execution_count": null,
   "metadata": {
    "execution": {
     "iopub.execute_input": "2023-07-31T23:06:35.179094Z",
     "iopub.status.busy": "2023-07-31T23:06:35.178788Z",
     "iopub.status.idle": "2023-07-31T23:06:35.201095Z",
     "shell.execute_reply": "2023-07-31T23:06:35.200675Z"
    }
   },
   "outputs": [],
   "source": [
    "from qat.fermion.chemistry.ucc import construct_ucc_ansatz\n",
    "\n",
    "prog = construct_ucc_ansatz(cluster_ops_sp, hf_init_sp, n_steps=1)\n",
    "circ = prog.to_circ()"
   ]
  },
  {
   "cell_type": "code",
   "execution_count": null,
   "metadata": {
    "execution": {
     "iopub.execute_input": "2023-07-31T23:06:35.203160Z",
     "iopub.status.busy": "2023-07-31T23:06:35.202783Z",
     "iopub.status.idle": "2023-07-31T23:06:35.503688Z",
     "shell.execute_reply": "2023-07-31T23:06:35.503296Z"
    }
   },
   "outputs": [],
   "source": [
    "circ.display()"
   ]
  },
  {
   "cell_type": "markdown",
   "metadata": {
    "slideshow": {
     "slide_type": "slide"
    },
    "tags": []
   },
   "source": [
    "## Optimize the angles of $\\psi(\\vec{\\theta})$ for a given QPU\n",
    "\n",
    "We can now use the QLM's variational plugins to perform the VQE optimization."
   ]
  },
  {
   "cell_type": "code",
   "execution_count": null,
   "metadata": {
    "execution": {
     "iopub.execute_input": "2023-07-31T23:06:35.507773Z",
     "iopub.status.busy": "2023-07-31T23:06:35.507577Z",
     "iopub.status.idle": "2023-07-31T23:06:37.021888Z",
     "shell.execute_reply": "2023-07-31T23:06:37.021330Z"
    },
    "slideshow": {
     "slide_type": "fragment"
    },
    "tags": []
   },
   "outputs": [],
   "source": [
    "job = circ.to_job(observable=H_sp, nbshots=0)\n",
    "\n",
    "from qat.qpus import get_default_qpu\n",
    "from qat.plugins import ScipyMinimizePlugin\n",
    "\n",
    "optimizer_scipy = ScipyMinimizePlugin(method=\"COBYLA\", tol=1e-3, options={\"maxiter\": 1000}, x0=theta_init)\n",
    "qpu = optimizer_scipy | get_default_qpu()\n",
    "result = qpu.submit(job)\n",
    "\n",
    "print(\"Minimum energy =\", result.value)"
   ]
  },
  {
   "cell_type": "code",
   "execution_count": null,
   "metadata": {
    "execution": {
     "iopub.execute_input": "2023-07-31T23:06:37.024124Z",
     "iopub.status.busy": "2023-07-31T23:06:37.023863Z",
     "iopub.status.idle": "2023-07-31T23:06:37.890288Z",
     "shell.execute_reply": "2023-07-31T23:06:37.889880Z"
    },
    "slideshow": {
     "slide_type": "fragment"
    }
   },
   "outputs": [],
   "source": [
    "%matplotlib inline\n",
    "import matplotlib.pyplot as plt\n",
    "\n",
    "plt.plot(eval(result.meta_data[\"optimization_trace\"]), lw=3)\n",
    "\n",
    "plt.xlabel(\"Steps\")\n",
    "plt.ylabel(\"Energy\")\n",
    "plt.grid()"
   ]
  },
  {
   "cell_type": "markdown",
   "metadata": {},
   "source": [
    "# Solving $H_2$ using ADAPT-VQE plugin\n",
    "\n",
    "We can use the **ADAPT-VQE** plugin to generate iteratively the ansatz which minimizes the energy. Assuming we have our Hamiltonian in the selected active space (`H_active`), we need to initialize the circuit with the corresponding Hartree-Fock state.\n",
    "\n",
    "The plugin `AdaptVQEPlugin` generates automatically the ansatz, which needs to be optimized using an optimizer. Here, we will use once again `ScipyMinimizePlugin`, coupled to the QPU."
   ]
  },
  {
   "cell_type": "code",
   "execution_count": null,
   "metadata": {
    "execution": {
     "iopub.execute_input": "2023-07-31T23:06:37.892500Z",
     "iopub.status.busy": "2023-07-31T23:06:37.892102Z",
     "iopub.status.idle": "2023-07-31T23:06:38.235756Z",
     "shell.execute_reply": "2023-07-31T23:06:38.235314Z"
    }
   },
   "outputs": [],
   "source": [
    "from qat.plugins import AdaptVQEPlugin\n",
    "\n",
    "# Initialize a Program\n",
    "prog = Program()\n",
    "reg = prog.qalloc(H_sp.nbqbits)\n",
    "\n",
    "# Define the circuit which prepares a Hartree-Fock state\n",
    "for j, char in enumerate(format(hf_init_sp, \"0\" + str(H_sp.nbqbits) + \"b\")):\n",
    "    if char == \"1\":\n",
    "        prog.apply(X, reg[j])\n",
    "\n",
    "circuit = prog.to_circ()\n",
    "\n",
    "# We have the variational Job we need to optimize\n",
    "job = circuit.to_job(observable=H_sp)\n",
    "\n",
    "# We define the stack...\n",
    "adaptvqe_plugin = AdaptVQEPlugin(cluster_ops_sp, n_iterations=15, tol_vanishing_grad=0.01)\n",
    "optimizer = ScipyMinimizePlugin(method=\"COBYLA\", tol=1e-3, options={\"maxiter\": 200})\n",
    "\n",
    "stack = adaptvqe_plugin | optimizer | qpu\n",
    "\n",
    "# ... and submit the job\n",
    "result_adapt = stack.submit(job)"
   ]
  },
  {
   "cell_type": "code",
   "execution_count": null,
   "metadata": {
    "execution": {
     "iopub.execute_input": "2023-07-31T23:06:38.238749Z",
     "iopub.status.busy": "2023-07-31T23:06:38.238517Z",
     "iopub.status.idle": "2023-07-31T23:06:38.406516Z",
     "shell.execute_reply": "2023-07-31T23:06:38.406100Z"
    }
   },
   "outputs": [],
   "source": [
    "%matplotlib inline\n",
    "import matplotlib.pyplot as plt\n",
    "\n",
    "plt.plot(eval(result.meta_data[\"optimization_trace\"]), label=\"VQE\", lw=3)\n",
    "plt.plot(eval(result_adapt.meta_data[\"optimization_trace\"]), label=\"ADAPT-VQE\", lw=3)\n",
    "plt.plot(\n",
    "    [info[\"FCI\"] for _ in enumerate(eval(result.meta_data[\"optimization_trace\"]))],\n",
    "    \"--k\",\n",
    "    label=\"FCI\",\n",
    ")\n",
    "plt.legend(loc=\"best\")\n",
    "plt.xlabel(\"Steps\")\n",
    "plt.ylabel(\"Energy\")\n",
    "plt.grid()"
   ]
  },
  {
   "cell_type": "markdown",
   "metadata": {},
   "source": [
    "## Further questions to be investigated:\n",
    "- How does this work for a bigger molecule ?\n",
    "- How to do an active space selection to simplify the computations ?\n",
    "\n",
    "These questions are answered in our [second example of quantum chemistry computations on an $LiH$ molecule.](qat_fermion_vqe_ucc_example_2_lih.ipynb)"
   ]
  }
 ],
 "metadata": {
  "authors": [
   "Maxime Oliva"
  ],
  "celltoolbar": "Diaporama",
  "documentation-tags": {
   "icon": "issue-draft"
  },
  "kernelspec": {
   "display_name": "Python 3 (ipykernel)",
   "language": "python",
   "name": "python3"
  },
  "language_info": {
   "codemirror_mode": {
    "name": "ipython",
    "version": 3
   },
   "file_extension": ".py",
   "mimetype": "text/x-python",
   "name": "python",
   "nbconvert_exporter": "python",
   "pygments_lexer": "ipython3",
   "version": "3.11.3"
  },
  "vscode": {
   "interpreter": {
    "hash": "e7370f93d1d0cde622a1f8e1c04877d8463912d04d973331ad4851f04de6915a"
   }
  },
  "widgets": {
   "application/vnd.jupyter.widget-state+json": {
    "state": {
     "1428b1b6351b42b88eee2e21771877a3": {
      "model_module": "@jupyter-widgets/controls",
      "model_module_version": "2.0.0",
      "model_name": "HTMLModel",
      "state": {
       "_dom_classes": [],
       "_model_module": "@jupyter-widgets/controls",
       "_model_module_version": "2.0.0",
       "_model_name": "HTMLModel",
       "_view_count": null,
       "_view_module": "@jupyter-widgets/controls",
       "_view_module_version": "2.0.0",
       "_view_name": "HTMLView",
       "description": "",
       "description_allow_html": false,
       "layout": "IPY_MODEL_32f7f6feaee64400b0ccf081fdf6233a",
       "placeholder": "​",
       "style": "IPY_MODEL_60919d93d59c4cac85610ed91ca454e2",
       "tabbable": null,
       "tooltip": null,
       "value": " 3/3 [00:00&lt;00:00, 28.07it/s]"
      }
     },
     "1bfd3a83385b4942b8e84142480d4450": {
      "model_module": "@jupyter-widgets/base",
      "model_module_version": "2.0.0",
      "model_name": "LayoutModel",
      "state": {
       "_model_module": "@jupyter-widgets/base",
       "_model_module_version": "2.0.0",
       "_model_name": "LayoutModel",
       "_view_count": null,
       "_view_module": "@jupyter-widgets/base",
       "_view_module_version": "2.0.0",
       "_view_name": "LayoutView",
       "align_content": null,
       "align_items": null,
       "align_self": null,
       "border_bottom": null,
       "border_left": null,
       "border_right": null,
       "border_top": null,
       "bottom": null,
       "display": null,
       "flex": null,
       "flex_flow": null,
       "grid_area": null,
       "grid_auto_columns": null,
       "grid_auto_flow": null,
       "grid_auto_rows": null,
       "grid_column": null,
       "grid_gap": null,
       "grid_row": null,
       "grid_template_areas": null,
       "grid_template_columns": null,
       "grid_template_rows": null,
       "height": null,
       "justify_content": null,
       "justify_items": null,
       "left": null,
       "margin": null,
       "max_height": null,
       "max_width": null,
       "min_height": null,
       "min_width": null,
       "object_fit": null,
       "object_position": null,
       "order": null,
       "overflow": null,
       "padding": null,
       "right": null,
       "top": null,
       "visibility": null,
       "width": null
      }
     },
     "2678b9ac141f454baabcc63d880533ab": {
      "model_module": "@jupyter-widgets/controls",
      "model_module_version": "2.0.0",
      "model_name": "FloatProgressModel",
      "state": {
       "_dom_classes": [],
       "_model_module": "@jupyter-widgets/controls",
       "_model_module_version": "2.0.0",
       "_model_name": "FloatProgressModel",
       "_view_count": null,
       "_view_module": "@jupyter-widgets/controls",
       "_view_module_version": "2.0.0",
       "_view_name": "ProgressView",
       "bar_style": "success",
       "description": "",
       "description_allow_html": false,
       "layout": "IPY_MODEL_a633039162a04111a699ac1cf3bd2b57",
       "max": 3.0,
       "min": 0.0,
       "orientation": "horizontal",
       "style": "IPY_MODEL_fce824398b35492886dce9dffa5015b3",
       "tabbable": null,
       "tooltip": null,
       "value": 3.0
      }
     },
     "32f7f6feaee64400b0ccf081fdf6233a": {
      "model_module": "@jupyter-widgets/base",
      "model_module_version": "2.0.0",
      "model_name": "LayoutModel",
      "state": {
       "_model_module": "@jupyter-widgets/base",
       "_model_module_version": "2.0.0",
       "_model_name": "LayoutModel",
       "_view_count": null,
       "_view_module": "@jupyter-widgets/base",
       "_view_module_version": "2.0.0",
       "_view_name": "LayoutView",
       "align_content": null,
       "align_items": null,
       "align_self": null,
       "border_bottom": null,
       "border_left": null,
       "border_right": null,
       "border_top": null,
       "bottom": null,
       "display": null,
       "flex": null,
       "flex_flow": null,
       "grid_area": null,
       "grid_auto_columns": null,
       "grid_auto_flow": null,
       "grid_auto_rows": null,
       "grid_column": null,
       "grid_gap": null,
       "grid_row": null,
       "grid_template_areas": null,
       "grid_template_columns": null,
       "grid_template_rows": null,
       "height": null,
       "justify_content": null,
       "justify_items": null,
       "left": null,
       "margin": null,
       "max_height": null,
       "max_width": null,
       "min_height": null,
       "min_width": null,
       "object_fit": null,
       "object_position": null,
       "order": null,
       "overflow": null,
       "padding": null,
       "right": null,
       "top": null,
       "visibility": null,
       "width": null
      }
     },
     "3c64704cec4248a48b37eb7eab4d392e": {
      "model_module": "@jupyter-widgets/controls",
      "model_module_version": "2.0.0",
      "model_name": "HTMLStyleModel",
      "state": {
       "_model_module": "@jupyter-widgets/controls",
       "_model_module_version": "2.0.0",
       "_model_name": "HTMLStyleModel",
       "_view_count": null,
       "_view_module": "@jupyter-widgets/base",
       "_view_module_version": "2.0.0",
       "_view_name": "StyleView",
       "background": null,
       "description_width": "",
       "font_size": null,
       "text_color": null
      }
     },
     "3ced016c541d48d8a67e8c2a7e3dc79e": {
      "model_module": "@jupyter-widgets/controls",
      "model_module_version": "2.0.0",
      "model_name": "HTMLStyleModel",
      "state": {
       "_model_module": "@jupyter-widgets/controls",
       "_model_module_version": "2.0.0",
       "_model_name": "HTMLStyleModel",
       "_view_count": null,
       "_view_module": "@jupyter-widgets/base",
       "_view_module_version": "2.0.0",
       "_view_name": "StyleView",
       "background": null,
       "description_width": "",
       "font_size": null,
       "text_color": null
      }
     },
     "494e4a93607849a28cfba26e4bfcc989": {
      "model_module": "@jupyter-widgets/controls",
      "model_module_version": "2.0.0",
      "model_name": "ProgressStyleModel",
      "state": {
       "_model_module": "@jupyter-widgets/controls",
       "_model_module_version": "2.0.0",
       "_model_name": "ProgressStyleModel",
       "_view_count": null,
       "_view_module": "@jupyter-widgets/base",
       "_view_module_version": "2.0.0",
       "_view_name": "StyleView",
       "bar_color": null,
       "description_width": ""
      }
     },
     "53ff46cdfac2473a80e07b477e1f9791": {
      "model_module": "@jupyter-widgets/controls",
      "model_module_version": "2.0.0",
      "model_name": "HBoxModel",
      "state": {
       "_dom_classes": [],
       "_model_module": "@jupyter-widgets/controls",
       "_model_module_version": "2.0.0",
       "_model_name": "HBoxModel",
       "_view_count": null,
       "_view_module": "@jupyter-widgets/controls",
       "_view_module_version": "2.0.0",
       "_view_name": "HBoxView",
       "box_style": "",
       "children": [
        "IPY_MODEL_5a41024b623d4903bf53d88f491452da",
        "IPY_MODEL_2678b9ac141f454baabcc63d880533ab",
        "IPY_MODEL_1428b1b6351b42b88eee2e21771877a3"
       ],
       "layout": "IPY_MODEL_e01aae600e584062a14f2a5dcfc116f7",
       "tabbable": null,
       "tooltip": null
      }
     },
     "5a41024b623d4903bf53d88f491452da": {
      "model_module": "@jupyter-widgets/controls",
      "model_module_version": "2.0.0",
      "model_name": "HTMLModel",
      "state": {
       "_dom_classes": [],
       "_model_module": "@jupyter-widgets/controls",
       "_model_module_version": "2.0.0",
       "_model_name": "HTMLModel",
       "_view_count": null,
       "_view_module": "@jupyter-widgets/controls",
       "_view_module_version": "2.0.0",
       "_view_name": "HTMLView",
       "description": "",
       "description_allow_html": false,
       "layout": "IPY_MODEL_f5cae1e7f0f24429a7868fc1d51237b0",
       "placeholder": "​",
       "style": "IPY_MODEL_3c64704cec4248a48b37eb7eab4d392e",
       "tabbable": null,
       "tooltip": null,
       "value": "Computing commutators...: 100%"
      }
     },
     "60919d93d59c4cac85610ed91ca454e2": {
      "model_module": "@jupyter-widgets/controls",
      "model_module_version": "2.0.0",
      "model_name": "HTMLStyleModel",
      "state": {
       "_model_module": "@jupyter-widgets/controls",
       "_model_module_version": "2.0.0",
       "_model_name": "HTMLStyleModel",
       "_view_count": null,
       "_view_module": "@jupyter-widgets/base",
       "_view_module_version": "2.0.0",
       "_view_name": "StyleView",
       "background": null,
       "description_width": "",
       "font_size": null,
       "text_color": null
      }
     },
     "79584cd9cb794435b6294f448cce0a77": {
      "model_module": "@jupyter-widgets/base",
      "model_module_version": "2.0.0",
      "model_name": "LayoutModel",
      "state": {
       "_model_module": "@jupyter-widgets/base",
       "_model_module_version": "2.0.0",
       "_model_name": "LayoutModel",
       "_view_count": null,
       "_view_module": "@jupyter-widgets/base",
       "_view_module_version": "2.0.0",
       "_view_name": "LayoutView",
       "align_content": null,
       "align_items": null,
       "align_self": null,
       "border_bottom": null,
       "border_left": null,
       "border_right": null,
       "border_top": null,
       "bottom": null,
       "display": null,
       "flex": null,
       "flex_flow": null,
       "grid_area": null,
       "grid_auto_columns": null,
       "grid_auto_flow": null,
       "grid_auto_rows": null,
       "grid_column": null,
       "grid_gap": null,
       "grid_row": null,
       "grid_template_areas": null,
       "grid_template_columns": null,
       "grid_template_rows": null,
       "height": null,
       "justify_content": null,
       "justify_items": null,
       "left": null,
       "margin": null,
       "max_height": null,
       "max_width": null,
       "min_height": null,
       "min_width": null,
       "object_fit": null,
       "object_position": null,
       "order": null,
       "overflow": null,
       "padding": null,
       "right": null,
       "top": null,
       "visibility": null,
       "width": null
      }
     },
     "9013917a30d14ad0b54a119d3895c17e": {
      "model_module": "@jupyter-widgets/controls",
      "model_module_version": "2.0.0",
      "model_name": "HTMLModel",
      "state": {
       "_dom_classes": [],
       "_model_module": "@jupyter-widgets/controls",
       "_model_module_version": "2.0.0",
       "_model_name": "HTMLModel",
       "_view_count": null,
       "_view_module": "@jupyter-widgets/controls",
       "_view_module_version": "2.0.0",
       "_view_name": "HTMLView",
       "description": "",
       "description_allow_html": false,
       "layout": "IPY_MODEL_d5e8a10384044d1bab3158c2883ea004",
       "placeholder": "​",
       "style": "IPY_MODEL_c075bd3dfad64718939ff8c73b094f94",
       "tabbable": null,
       "tooltip": null,
       "value": " 1/15 [00:00&lt;00:02,  5.24it/s]"
      }
     },
     "a27b595bc39f4b34859182a59d43ac5b": {
      "model_module": "@jupyter-widgets/controls",
      "model_module_version": "2.0.0",
      "model_name": "HTMLModel",
      "state": {
       "_dom_classes": [],
       "_model_module": "@jupyter-widgets/controls",
       "_model_module_version": "2.0.0",
       "_model_name": "HTMLModel",
       "_view_count": null,
       "_view_module": "@jupyter-widgets/controls",
       "_view_module_version": "2.0.0",
       "_view_name": "HTMLView",
       "description": "",
       "description_allow_html": false,
       "layout": "IPY_MODEL_1bfd3a83385b4942b8e84142480d4450",
       "placeholder": "​",
       "style": "IPY_MODEL_3ced016c541d48d8a67e8c2a7e3dc79e",
       "tabbable": null,
       "tooltip": null,
       "value": "Computing energy gradients...:   7%"
      }
     },
     "a3b89e3103fe4bf29adfefe79c5cef15": {
      "model_module": "@jupyter-widgets/controls",
      "model_module_version": "2.0.0",
      "model_name": "FloatProgressModel",
      "state": {
       "_dom_classes": [],
       "_model_module": "@jupyter-widgets/controls",
       "_model_module_version": "2.0.0",
       "_model_name": "FloatProgressModel",
       "_view_count": null,
       "_view_module": "@jupyter-widgets/controls",
       "_view_module_version": "2.0.0",
       "_view_name": "ProgressView",
       "bar_style": "danger",
       "description": "",
       "description_allow_html": false,
       "layout": "IPY_MODEL_79584cd9cb794435b6294f448cce0a77",
       "max": 15.0,
       "min": 0.0,
       "orientation": "horizontal",
       "style": "IPY_MODEL_494e4a93607849a28cfba26e4bfcc989",
       "tabbable": null,
       "tooltip": null,
       "value": 1.0
      }
     },
     "a633039162a04111a699ac1cf3bd2b57": {
      "model_module": "@jupyter-widgets/base",
      "model_module_version": "2.0.0",
      "model_name": "LayoutModel",
      "state": {
       "_model_module": "@jupyter-widgets/base",
       "_model_module_version": "2.0.0",
       "_model_name": "LayoutModel",
       "_view_count": null,
       "_view_module": "@jupyter-widgets/base",
       "_view_module_version": "2.0.0",
       "_view_name": "LayoutView",
       "align_content": null,
       "align_items": null,
       "align_self": null,
       "border_bottom": null,
       "border_left": null,
       "border_right": null,
       "border_top": null,
       "bottom": null,
       "display": null,
       "flex": null,
       "flex_flow": null,
       "grid_area": null,
       "grid_auto_columns": null,
       "grid_auto_flow": null,
       "grid_auto_rows": null,
       "grid_column": null,
       "grid_gap": null,
       "grid_row": null,
       "grid_template_areas": null,
       "grid_template_columns": null,
       "grid_template_rows": null,
       "height": null,
       "justify_content": null,
       "justify_items": null,
       "left": null,
       "margin": null,
       "max_height": null,
       "max_width": null,
       "min_height": null,
       "min_width": null,
       "object_fit": null,
       "object_position": null,
       "order": null,
       "overflow": null,
       "padding": null,
       "right": null,
       "top": null,
       "visibility": null,
       "width": null
      }
     },
     "c075bd3dfad64718939ff8c73b094f94": {
      "model_module": "@jupyter-widgets/controls",
      "model_module_version": "2.0.0",
      "model_name": "HTMLStyleModel",
      "state": {
       "_model_module": "@jupyter-widgets/controls",
       "_model_module_version": "2.0.0",
       "_model_name": "HTMLStyleModel",
       "_view_count": null,
       "_view_module": "@jupyter-widgets/base",
       "_view_module_version": "2.0.0",
       "_view_name": "StyleView",
       "background": null,
       "description_width": "",
       "font_size": null,
       "text_color": null
      }
     },
     "d5e8a10384044d1bab3158c2883ea004": {
      "model_module": "@jupyter-widgets/base",
      "model_module_version": "2.0.0",
      "model_name": "LayoutModel",
      "state": {
       "_model_module": "@jupyter-widgets/base",
       "_model_module_version": "2.0.0",
       "_model_name": "LayoutModel",
       "_view_count": null,
       "_view_module": "@jupyter-widgets/base",
       "_view_module_version": "2.0.0",
       "_view_name": "LayoutView",
       "align_content": null,
       "align_items": null,
       "align_self": null,
       "border_bottom": null,
       "border_left": null,
       "border_right": null,
       "border_top": null,
       "bottom": null,
       "display": null,
       "flex": null,
       "flex_flow": null,
       "grid_area": null,
       "grid_auto_columns": null,
       "grid_auto_flow": null,
       "grid_auto_rows": null,
       "grid_column": null,
       "grid_gap": null,
       "grid_row": null,
       "grid_template_areas": null,
       "grid_template_columns": null,
       "grid_template_rows": null,
       "height": null,
       "justify_content": null,
       "justify_items": null,
       "left": null,
       "margin": null,
       "max_height": null,
       "max_width": null,
       "min_height": null,
       "min_width": null,
       "object_fit": null,
       "object_position": null,
       "order": null,
       "overflow": null,
       "padding": null,
       "right": null,
       "top": null,
       "visibility": null,
       "width": null
      }
     },
     "e00fa7a94fc644be845d65ec1cd3d70a": {
      "model_module": "@jupyter-widgets/controls",
      "model_module_version": "2.0.0",
      "model_name": "HBoxModel",
      "state": {
       "_dom_classes": [],
       "_model_module": "@jupyter-widgets/controls",
       "_model_module_version": "2.0.0",
       "_model_name": "HBoxModel",
       "_view_count": null,
       "_view_module": "@jupyter-widgets/controls",
       "_view_module_version": "2.0.0",
       "_view_name": "HBoxView",
       "box_style": "",
       "children": [
        "IPY_MODEL_a27b595bc39f4b34859182a59d43ac5b",
        "IPY_MODEL_a3b89e3103fe4bf29adfefe79c5cef15",
        "IPY_MODEL_9013917a30d14ad0b54a119d3895c17e"
       ],
       "layout": "IPY_MODEL_fd642f2a1cf54a4180c53fcc1f99d0fb",
       "tabbable": null,
       "tooltip": null
      }
     },
     "e01aae600e584062a14f2a5dcfc116f7": {
      "model_module": "@jupyter-widgets/base",
      "model_module_version": "2.0.0",
      "model_name": "LayoutModel",
      "state": {
       "_model_module": "@jupyter-widgets/base",
       "_model_module_version": "2.0.0",
       "_model_name": "LayoutModel",
       "_view_count": null,
       "_view_module": "@jupyter-widgets/base",
       "_view_module_version": "2.0.0",
       "_view_name": "LayoutView",
       "align_content": null,
       "align_items": null,
       "align_self": null,
       "border_bottom": null,
       "border_left": null,
       "border_right": null,
       "border_top": null,
       "bottom": null,
       "display": null,
       "flex": null,
       "flex_flow": null,
       "grid_area": null,
       "grid_auto_columns": null,
       "grid_auto_flow": null,
       "grid_auto_rows": null,
       "grid_column": null,
       "grid_gap": null,
       "grid_row": null,
       "grid_template_areas": null,
       "grid_template_columns": null,
       "grid_template_rows": null,
       "height": null,
       "justify_content": null,
       "justify_items": null,
       "left": null,
       "margin": null,
       "max_height": null,
       "max_width": null,
       "min_height": null,
       "min_width": null,
       "object_fit": null,
       "object_position": null,
       "order": null,
       "overflow": null,
       "padding": null,
       "right": null,
       "top": null,
       "visibility": null,
       "width": null
      }
     },
     "f5cae1e7f0f24429a7868fc1d51237b0": {
      "model_module": "@jupyter-widgets/base",
      "model_module_version": "2.0.0",
      "model_name": "LayoutModel",
      "state": {
       "_model_module": "@jupyter-widgets/base",
       "_model_module_version": "2.0.0",
       "_model_name": "LayoutModel",
       "_view_count": null,
       "_view_module": "@jupyter-widgets/base",
       "_view_module_version": "2.0.0",
       "_view_name": "LayoutView",
       "align_content": null,
       "align_items": null,
       "align_self": null,
       "border_bottom": null,
       "border_left": null,
       "border_right": null,
       "border_top": null,
       "bottom": null,
       "display": null,
       "flex": null,
       "flex_flow": null,
       "grid_area": null,
       "grid_auto_columns": null,
       "grid_auto_flow": null,
       "grid_auto_rows": null,
       "grid_column": null,
       "grid_gap": null,
       "grid_row": null,
       "grid_template_areas": null,
       "grid_template_columns": null,
       "grid_template_rows": null,
       "height": null,
       "justify_content": null,
       "justify_items": null,
       "left": null,
       "margin": null,
       "max_height": null,
       "max_width": null,
       "min_height": null,
       "min_width": null,
       "object_fit": null,
       "object_position": null,
       "order": null,
       "overflow": null,
       "padding": null,
       "right": null,
       "top": null,
       "visibility": null,
       "width": null
      }
     },
     "fce824398b35492886dce9dffa5015b3": {
      "model_module": "@jupyter-widgets/controls",
      "model_module_version": "2.0.0",
      "model_name": "ProgressStyleModel",
      "state": {
       "_model_module": "@jupyter-widgets/controls",
       "_model_module_version": "2.0.0",
       "_model_name": "ProgressStyleModel",
       "_view_count": null,
       "_view_module": "@jupyter-widgets/base",
       "_view_module_version": "2.0.0",
       "_view_name": "StyleView",
       "bar_color": null,
       "description_width": ""
      }
     },
     "fd642f2a1cf54a4180c53fcc1f99d0fb": {
      "model_module": "@jupyter-widgets/base",
      "model_module_version": "2.0.0",
      "model_name": "LayoutModel",
      "state": {
       "_model_module": "@jupyter-widgets/base",
       "_model_module_version": "2.0.0",
       "_model_name": "LayoutModel",
       "_view_count": null,
       "_view_module": "@jupyter-widgets/base",
       "_view_module_version": "2.0.0",
       "_view_name": "LayoutView",
       "align_content": null,
       "align_items": null,
       "align_self": null,
       "border_bottom": null,
       "border_left": null,
       "border_right": null,
       "border_top": null,
       "bottom": null,
       "display": null,
       "flex": null,
       "flex_flow": null,
       "grid_area": null,
       "grid_auto_columns": null,
       "grid_auto_flow": null,
       "grid_auto_rows": null,
       "grid_column": null,
       "grid_gap": null,
       "grid_row": null,
       "grid_template_areas": null,
       "grid_template_columns": null,
       "grid_template_rows": null,
       "height": null,
       "justify_content": null,
       "justify_items": null,
       "left": null,
       "margin": null,
       "max_height": null,
       "max_width": null,
       "min_height": null,
       "min_width": null,
       "object_fit": null,
       "object_position": null,
       "order": null,
       "overflow": null,
       "padding": null,
       "right": null,
       "top": null,
       "visibility": null,
       "width": null
      }
     }
    },
    "version_major": 2,
    "version_minor": 0
   }
  }
 },
 "nbformat": 4,
 "nbformat_minor": 4
}
