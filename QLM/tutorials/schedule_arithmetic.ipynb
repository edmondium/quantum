{
 "cells": [
  {
   "cell_type": "markdown",
   "id": "9d694299",
   "metadata": {},
   "source": [
    "# Describing and manipulating time-dependent schedules\n",
    "\n",
    "Time-dependent Hamiltonians are implemented by objects of the type `Schedule`, which allow one to describe Hamiltonians decomposed as:\n",
    "\n",
    "$$ H(t) = \\sum_i \\lambda_i(t) H_i $$\n",
    "\n",
    "with $\\lambda_i(t)$ a time-dependent coefficient and $H_i$ a Hermitian operator (implemented as an `Observable` object).\n",
    "\n",
    "Schedules can be used to create jobs to be submitted to analog QPUs.\n"
   ]
  },
  {
   "cell_type": "markdown",
   "id": "55961cdc",
   "metadata": {},
   "source": [
    "## Building schedules\n",
    "\n",
    "`Schedule` objects are specified using a collection of pairs of time-dependent coefficients and `Observable` objects.\n",
    "Time dependent coefficients are simply arithmetic expressions (built from a `Variable`) with a possible open parameter representing the time dependence (usually a variable `t`).\n",
    "This collection of pairs is called a `drive`.\n",
    "\n",
    "Here is a simple example that constructs a schedule containing the time-dependent Hamiltonian:\n",
    "\n",
    "$$ H(t) = (1 - t) \\sigma_0^{z} + t \\sigma_0^{x} $$"
   ]
  },
  {
   "cell_type": "code",
   "execution_count": null,
   "id": "d0789298",
   "metadata": {
    "execution": {
     "iopub.execute_input": "2023-07-31T23:07:33.602294Z",
     "iopub.status.busy": "2023-07-31T23:07:33.601753Z",
     "iopub.status.idle": "2023-07-31T23:07:34.061305Z",
     "shell.execute_reply": "2023-07-31T23:07:34.060581Z"
    }
   },
   "outputs": [],
   "source": [
    "from qat.core import Variable, Schedule, Observable, Term\n",
    "    \n",
    "t_variable = Variable(\"t\")\n",
    "schedule = Schedule(drive=[(1 - t_variable, Observable(1, pauli_terms=[Term(1, 'Z', [0])])),\n",
    "                           (t_variable, Observable(1, pauli_terms=[Term(1, 'X', [0])]))],\n",
    "                    tmax=23.0)\n",
    "\n",
    "print(schedule)"
   ]
  },
  {
   "cell_type": "markdown",
   "id": "13c85ca6",
   "metadata": {},
   "source": [
    "As you can see, one also needs to provide the time during which the schedule is defined (the `tmax` parameter).\n",
    "\n",
    "All scalars (i.e coefficients, tmax, etc) can be abstract arithmetic expressions:"
   ]
  },
  {
   "cell_type": "code",
   "execution_count": null,
   "id": "ec8a052a",
   "metadata": {
    "execution": {
     "iopub.execute_input": "2023-07-31T23:07:34.064401Z",
     "iopub.status.busy": "2023-07-31T23:07:34.063958Z",
     "iopub.status.idle": "2023-07-31T23:07:34.070198Z",
     "shell.execute_reply": "2023-07-31T23:07:34.069626Z"
    }
   },
   "outputs": [],
   "source": [
    "from qat.core import Variable, Schedule, Observable, Term\n",
    "    \n",
    "t_variable = Variable(\"t\")\n",
    "tmax_variable = 15 * Variable(\"tmax\") - 5\n",
    "schedule = Schedule(drive=[(1 - t_variable, Observable(1, pauli_terms=[Term(1, 'Z', [0])])),\n",
    "                           (t_variable, Observable(1, pauli_terms=[Term(1, 'X', [0])]))],\n",
    "                    tmax=tmax_variable)\n",
    "\n",
    "print(schedule, \"\\n\")\n",
    "print(schedule(tmax=10))"
   ]
  },
  {
   "cell_type": "markdown",
   "id": "27f9bde9",
   "metadata": {},
   "source": [
    "Drives can also be declared using an `Observable` with time-dependent coefficients:"
   ]
  },
  {
   "cell_type": "code",
   "execution_count": null,
   "id": "f4d5a232",
   "metadata": {
    "execution": {
     "iopub.execute_input": "2023-07-31T23:07:34.072459Z",
     "iopub.status.busy": "2023-07-31T23:07:34.072111Z",
     "iopub.status.idle": "2023-07-31T23:07:34.076898Z",
     "shell.execute_reply": "2023-07-31T23:07:34.076277Z"
    }
   },
   "outputs": [],
   "source": [
    "from qat.core import Variable, Schedule, Observable, Term\n",
    "    \n",
    "t_variable = Variable(\"t\")\n",
    "hamiltonian = (1 - t_variable) * Observable(1, pauli_terms=[Term(1, 'Z', [0])]) + \\\n",
    "    t_variable * Observable(1, pauli_terms=[Term(1, 'X', [0])])\n",
    "schedule = Schedule(drive=hamiltonian,\n",
    "                    tmax=23.0)\n",
    "print(schedule)"
   ]
  },
  {
   "cell_type": "markdown",
   "id": "42a8c36a",
   "metadata": {},
   "source": [
    "## Manipulating schedules\n",
    "\n",
    "The `Schedule` class has some overloaded operators which allow you to manipulate them efficiently.\n",
    "\n",
    "### Temporal composition\n",
    "\n",
    "Two schedules can be temporally composed using the pipe/or operator:"
   ]
  },
  {
   "cell_type": "code",
   "execution_count": null,
   "id": "9f249eee",
   "metadata": {
    "execution": {
     "iopub.execute_input": "2023-07-31T23:07:34.079115Z",
     "iopub.status.busy": "2023-07-31T23:07:34.078640Z",
     "iopub.status.idle": "2023-07-31T23:07:34.083282Z",
     "shell.execute_reply": "2023-07-31T23:07:34.082919Z"
    }
   },
   "outputs": [],
   "source": [
    "from qat.core import Variable, Observable, Schedule, Term\n",
    "\n",
    "t_variable = Variable(\"t\")\n",
    "schedule1 = Schedule(drive=(1 - t_variable) * Observable(1, pauli_terms=[Term(1, 'Z', [0])]),\n",
    "                     tmax=2.0)\n",
    "schedule2 = Schedule(drive=t_variable * Observable(1, pauli_terms=[Term(1, 'X', [0])]),\n",
    "                     tmax=3.0)\n",
    "\n",
    "print(schedule1 | schedule2)"
   ]
  },
  {
   "cell_type": "markdown",
   "id": "cf115601",
   "metadata": {},
   "source": [
    "Note how the coefficients are ponderated by a `heaviside` signal to filter the ranges of the two schedules."
   ]
  },
  {
   "cell_type": "markdown",
   "id": "e874ce8a",
   "metadata": {},
   "source": [
    "### Parallel composition\n",
    "\n",
    "Two schedules can be merged into a single schedule containing the sum of the two drives using an addition."
   ]
  },
  {
   "cell_type": "code",
   "execution_count": null,
   "id": "dac5df9e",
   "metadata": {
    "execution": {
     "iopub.execute_input": "2023-07-31T23:07:34.085378Z",
     "iopub.status.busy": "2023-07-31T23:07:34.085020Z",
     "iopub.status.idle": "2023-07-31T23:07:34.089142Z",
     "shell.execute_reply": "2023-07-31T23:07:34.088769Z"
    }
   },
   "outputs": [],
   "source": [
    "from qat.core import Variable, Observable, Schedule, Term\n",
    "\n",
    "t_variable = Variable(\"t\")\n",
    "schedule1 = Schedule(drive=(1 - t_variable) * Observable(1, pauli_terms=[Term(1, 'Z', [0])]),\n",
    "                     tmax=2.0)\n",
    "schedule2 = Schedule(drive= t_variable * Observable(1, pauli_terms=[Term(1, 'X', [0])]),\n",
    "                     tmax=3.0)\n",
    "\n",
    "print(schedule1 + schedule2)"
   ]
  },
  {
   "cell_type": "markdown",
   "id": "57ff5128",
   "metadata": {},
   "source": [
    "### Rescaling a schedule\n",
    "\n",
    "A Schedule can be rescaled via multiplication by a scalar:"
   ]
  },
  {
   "cell_type": "code",
   "execution_count": null,
   "id": "fec02e38",
   "metadata": {
    "execution": {
     "iopub.execute_input": "2023-07-31T23:07:34.091142Z",
     "iopub.status.busy": "2023-07-31T23:07:34.090702Z",
     "iopub.status.idle": "2023-07-31T23:07:34.094463Z",
     "shell.execute_reply": "2023-07-31T23:07:34.094121Z"
    }
   },
   "outputs": [],
   "source": [
    "from qat.core import Variable, Observable, Schedule, Term\n",
    "\n",
    "t_variable = Variable(\"t\")\n",
    "schedule1 = Schedule(drive=(1 - t_variable) * Observable(1, pauli_terms=[Term(1, 'Z', [0])]),\n",
    "                     tmax=2.0)\n",
    "\n",
    "print(45 * schedule1, \"\\n\")\n",
    "print(Variable(\"foo\") * schedule1)"
   ]
  },
  {
   "cell_type": "markdown",
   "id": "98ae1afb",
   "metadata": {},
   "source": [
    "### Time translation of a schedule\n",
    "\n",
    "A Schedule can be delayed (in the past or the future) by using the bit shift operators `<<` and `>>`:"
   ]
  },
  {
   "cell_type": "code",
   "execution_count": null,
   "id": "5a615470",
   "metadata": {
    "execution": {
     "iopub.execute_input": "2023-07-31T23:07:34.096397Z",
     "iopub.status.busy": "2023-07-31T23:07:34.095888Z",
     "iopub.status.idle": "2023-07-31T23:07:34.100106Z",
     "shell.execute_reply": "2023-07-31T23:07:34.099749Z"
    }
   },
   "outputs": [],
   "source": [
    "from qat.core import Variable, Observable, Schedule, Term\n",
    "\n",
    "t_variable = Variable(\"t\")\n",
    "schedule1 = Schedule(drive=(1 - t_variable) * Observable(1, pauli_terms=[Term(1, 'Z', [0])]),\n",
    "                     tmax=2.0)\n",
    "\n",
    "print(schedule1 >> 3)\n",
    "print(schedule1 << Variable('bar'))"
   ]
  },
  {
   "cell_type": "markdown",
   "id": "5e9bd2e0",
   "metadata": {},
   "source": [
    "## Analog Jobs\n",
    "\n",
    "Similarly to quantum circuits, schedules can be turned into jobs using the `to_job` method:"
   ]
  },
  {
   "cell_type": "code",
   "execution_count": null,
   "id": "bcc2329d",
   "metadata": {
    "execution": {
     "iopub.execute_input": "2023-07-31T23:07:34.101960Z",
     "iopub.status.busy": "2023-07-31T23:07:34.101607Z",
     "iopub.status.idle": "2023-07-31T23:07:34.105811Z",
     "shell.execute_reply": "2023-07-31T23:07:34.105462Z"
    }
   },
   "outputs": [],
   "source": [
    "from qat.core import Variable, Observable, Schedule, Term\n",
    "    \n",
    "t_variable = Variable(\"t\")\n",
    "schedule = Schedule(drive=(1 - t_variable) * Observable(1, pauli_terms=[Term(1, 'Z', [0])]),\n",
    "                    tmax=2.0)\n",
    "\n",
    "# To simply sample the final state in the computational basis\n",
    "job = schedule.to_job()\n",
    "\n",
    "# To evaluate some observable at the end of the computation\n",
    "job = schedule.to_job(observable=Observable(1, pauli_terms=[Term(1, 'Z', [0])]))"
   ]
  },
  {
   "cell_type": "markdown",
   "id": "88ead7e1",
   "metadata": {},
   "source": [
    "This method takes more or less the same arguments as the quantum circuit's method with the same name.\n",
    "\n",
    "One important difference to notice: it is possible to change the starting state of the computation using the `psi_0` argument:"
   ]
  },
  {
   "cell_type": "code",
   "execution_count": null,
   "id": "b7ff8306",
   "metadata": {
    "execution": {
     "iopub.execute_input": "2023-07-31T23:07:34.107750Z",
     "iopub.status.busy": "2023-07-31T23:07:34.107326Z",
     "iopub.status.idle": "2023-07-31T23:07:34.111675Z",
     "shell.execute_reply": "2023-07-31T23:07:34.111344Z"
    }
   },
   "outputs": [],
   "source": [
    "import numpy as np\n",
    "from qat.core import Variable, Observable, Schedule, Term\n",
    "\n",
    "t_variable = Variable(\"t\")\n",
    "schedule = Schedule(drive=(1 - t_variable) * (Observable(2, pauli_terms=[Term(1, 'Z', [0])]) +\n",
    "                                              Observable(2, pauli_terms=[Term(1, 'Z', [1])])),\n",
    "                    tmax=2.0)\n",
    "\n",
    "# Starting from |++> state\n",
    "job = schedule.to_job(psi_0='++')\n",
    "\n",
    "# Starting from |+1> state\n",
    "job = schedule.to_job(psi_0='+1')\n",
    "\n",
    "# Starting from a random initial state (simulator only)\n",
    "vec = np.random.random(4)\n",
    "vec /= np.linalg.norm(vec)\n",
    "job = schedule.to_job(psi_0=vec)"
   ]
  },
  {
   "cell_type": "code",
   "execution_count": null,
   "id": "2e01a98f",
   "metadata": {},
   "outputs": [],
   "source": []
  }
 ],
 "metadata": {
  "documentation-tags": {
   "icon": [
    ":material-outlined:`calculate;3em`",
    ":material-outlined:`functions;3em`",
    ":material-outlined:`schedule;40px`"
   ],
   "level": "beginner"
  },
  "kernelspec": {
   "display_name": "Python 3 (ipykernel)",
   "language": "python",
   "name": "python3"
  },
  "language_info": {
   "codemirror_mode": {
    "name": "ipython",
    "version": 3
   },
   "file_extension": ".py",
   "mimetype": "text/x-python",
   "name": "python",
   "nbconvert_exporter": "python",
   "pygments_lexer": "ipython3",
   "version": "3.11.3"
  }
 },
 "nbformat": 4,
 "nbformat_minor": 5
}
