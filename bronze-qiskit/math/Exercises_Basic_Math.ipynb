{
 "cells": [
  {
   "cell_type": "markdown",
   "metadata": {},
   "source": [
    "<a href=\"https://qworld.net\" target=\"_blank\" align=\"left\"><img src=\"../qworld/images/header.jpg\"  align=\"left\"></a>\n",
    "$ \\newcommand{\\bra}[1]{\\langle #1|} $\n",
    "$ \\newcommand{\\ket}[1]{|#1\\rangle} $\n",
    "$ \\newcommand{\\braket}[2]{\\langle #1|#2\\rangle} $\n",
    "$ \\newcommand{\\dot}[2]{ #1 \\cdot #2} $\n",
    "$ \\newcommand{\\biginner}[2]{\\left\\langle #1,#2\\right\\rangle} $\n",
    "$ \\newcommand{\\mymatrix}[2]{\\left( \\begin{array}{#1} #2\\end{array} \\right)} $\n",
    "$ \\newcommand{\\myvector}[1]{\\mymatrix{c}{#1}} $\n",
    "$ \\newcommand{\\myrvector}[1]{\\mymatrix{r}{#1}} $\n",
    "$ \\newcommand{\\mypar}[1]{\\left( #1 \\right)} $\n",
    "$ \\newcommand{\\mybigpar}[1]{ \\Big( #1 \\Big)} $\n",
    "$ \\newcommand{\\sqrttwo}{\\frac{1}{\\sqrt{2}}} $\n",
    "$ \\newcommand{\\dsqrttwo}{\\dfrac{1}{\\sqrt{2}}} $\n",
    "$ \\newcommand{\\onehalf}{\\frac{1}{2}} $\n",
    "$ \\newcommand{\\donehalf}{\\dfrac{1}{2}} $\n",
    "$ \\newcommand{\\hadamard}{ \\mymatrix{rr}{ \\sqrttwo & \\sqrttwo \\\\ \\sqrttwo & -\\sqrttwo }} $\n",
    "$ \\newcommand{\\vzero}{\\myvector{1\\\\0}} $\n",
    "$ \\newcommand{\\vone}{\\myvector{0\\\\1}} $\n",
    "$ \\newcommand{\\stateplus}{\\myvector{ \\sqrttwo \\\\  \\sqrttwo } } $\n",
    "$ \\newcommand{\\stateminus}{ \\myrvector{ \\sqrttwo \\\\ -\\sqrttwo } } $\n",
    "$ \\newcommand{\\myarray}[2]{ \\begin{array}{#1}#2\\end{array}} $\n",
    "$ \\newcommand{\\X}{ \\mymatrix{cc}{0 & 1 \\\\ 1 & 0}  } $\n",
    "$ \\newcommand{\\I}{ \\mymatrix{rr}{1 & 0 \\\\ 0 & 1}  } $\n",
    "$ \\newcommand{\\Z}{ \\mymatrix{rr}{1 & 0 \\\\ 0 & -1}  } $\n",
    "$ \\newcommand{\\Htwo}{ \\mymatrix{rrrr}{ \\frac{1}{2} & \\frac{1}{2} & \\frac{1}{2} & \\frac{1}{2} \\\\ \\frac{1}{2} & -\\frac{1}{2} & \\frac{1}{2} & -\\frac{1}{2} \\\\ \\frac{1}{2} & \\frac{1}{2} & -\\frac{1}{2} & -\\frac{1}{2} \\\\ \\frac{1}{2} & -\\frac{1}{2} & -\\frac{1}{2} & \\frac{1}{2} } } $\n",
    "$ \\newcommand{\\CNOT}{ \\mymatrix{cccc}{1 & 0 & 0 & 0 \\\\ 0 & 1 & 0 & 0 \\\\ 0 & 0 & 0 & 1 \\\\ 0 & 0 & 1 & 0} } $\n",
    "$ \\newcommand{\\norm}[1]{ \\left\\lVert #1 \\right\\rVert } $\n",
    "$ \\newcommand{\\pstate}[1]{ \\lceil \\mspace{-1mu} #1 \\mspace{-1.5mu} \\rfloor } $\n",
    "$ \\newcommand{\\greenbit}[1] {\\mathbf{{\\color{green}#1}}} $\n",
    "$ \\newcommand{\\bluebit}[1] {\\mathbf{{\\color{blue}#1}}} $\n",
    "$ \\newcommand{\\redbit}[1] {\\mathbf{{\\color{red}#1}}} $\n",
    "$ \\newcommand{\\brownbit}[1] {\\mathbf{{\\color{brown}#1}}} $\n",
    "$ \\newcommand{\\blackbit}[1] {\\mathbf{{\\color{black}#1}}} $"
   ]
  },
  {
   "cell_type": "markdown",
   "metadata": {},
   "source": [
    "<font style=\"font-size:28px;\" align=\"left\"><b>Exercises for Basic Math</b></font>\n",
    "<br>\n",
    "_prepared by Abuzer Yakaryilmaz_\n",
    "<br><br>"
   ]
  },
  {
   "cell_type": "markdown",
   "metadata": {},
   "source": [
    "Run the following cell to open the exercises.\n",
    "\n",
    "<i><a href=\"https://www.mathjax.org\" target=\"_blank\">MathJax</a> is used to express mathematical expressions and it requires internet connection.</i>\n",
    "<hr>"
   ]
  },
  {
   "cell_type": "code",
   "execution_count": 1,
   "metadata": {
    "scrolled": true
   },
   "outputs": [
    {
     "data": {
      "text/plain": [
       "True"
      ]
     },
     "execution_count": 1,
     "metadata": {},
     "output_type": "execute_result"
    },
    {
     "name": "stderr",
     "output_type": "stream",
     "text": [
      "[3245:3245:1220/042338.485823:ERROR:policy_logger.cc(156)] :components/enterprise/browser/controller/chrome_browser_cloud_management_controller.cc(161) Cloud management controller initialization aborted as CBCM is not enabled. Please use the `--enable-chrome-browser-cloud-management` command line flag to enable it if you are not using the official Google Chrome build.\n",
      "'\\\\wsl.localhost\\Ubuntu\\home\\edmondium\\bronze-qiskit\\math'\n",
      "CMD.EXE was started with the above path as the current directory.\n",
      "UNC paths are not supported.  Defaulting to Windows directory.\n",
      "sh: 1: /mnt/c/Users/edmon/AppData/Local/Microsoft/WindowsApps/MSAL.wsl.proxy.exe: not found\n",
      "[1220/042346.986332:ERROR:file_io_posix.cc(145)] open /sys/devices/system/cpu/cpu0/cpufreq/scaling_cur_freq: No such file or directory (2)\n",
      "[1220/042346.986470:ERROR:file_io_posix.cc(145)] open /sys/devices/system/cpu/cpu0/cpufreq/scaling_max_freq: No such file or directory (2)\n",
      "Deserialization failed!\n",
      "[1220/042639.426655:ERROR:file_io_posix.cc(145)] open /sys/devices/system/cpu/cpu0/cpufreq/scaling_cur_freq: No such file or directory (2)\n",
      "[1220/042639.426764:ERROR:file_io_posix.cc(145)] open /sys/devices/system/cpu/cpu0/cpufreq/scaling_max_freq: No such file or directory (2)\n",
      "[1220/043347.086360:ERROR:file_io_posix.cc(145)] open /sys/devices/system/cpu/cpu0/cpufreq/scaling_cur_freq: No such file or directory (2)\n",
      "[1220/043347.086463:ERROR:file_io_posix.cc(145)] open /sys/devices/system/cpu/cpu0/cpufreq/scaling_max_freq: No such file or directory (2)\n"
     ]
    }
   ],
   "source": [
    "import os, webbrowser\n",
    "webbrowser.open(os.path.abspath(\"Exercises_Basic_Math.html\"))"
   ]
  },
  {
   "cell_type": "code",
   "execution_count": 3,
   "metadata": {
    "editable": true,
    "slideshow": {
     "slide_type": ""
    },
    "tags": []
   },
   "outputs": [
    {
     "name": "stdout",
     "output_type": "stream",
     "text": [
      "by using the first method, the result vector is initialized to [0, 0, 0, 0]\n",
      "by using the second method, the result vector is initialized to [0, 0, 0, 0, 0, 0, 0]\n",
      "u is [2, -3, 4, 1]\n",
      "v is [-1, 1, -3, 4]\n",
      "2u-3v is [7, -9, 17, -10, 0, 0, 0]\n"
     ]
    }
   ],
   "source": [
    "dimension = 4\n",
    "u = [2, -3, 4, 1]\n",
    "v = [-1, 1, -3, 4]\n",
    "result = []\n",
    "for i in range(dimension):\n",
    "    result.append(0)\n",
    "print(\"by using the first method, the result vector is initialized to\", result)\n",
    "result = [0] * 7\n",
    "print(\"by using the second method, the result vector is initialized to\", result)\n",
    "for i in range(dimension):\n",
    "    result[i] = 2 * u[i] - 3 * v[i]\n",
    "print(\"u is\", u)\n",
    "print(\"v is\", v)\n",
    "print(\"2u-3v is\", result)"
   ]
  },
  {
   "cell_type": "code",
   "execution_count": 11,
   "metadata": {
    "editable": true,
    "slideshow": {
     "slide_type": ""
    },
    "tags": []
   },
   "outputs": [
    {
     "name": "stdout",
     "output_type": "stream",
     "text": [
      "u is [-1, 2, -4]\n",
      "the summation of entries is -3\n",
      "r = 2.0\n"
     ]
    }
   ],
   "source": [
    "u = [-1, 2, -4]\n",
    "print(\"u is\", u)\n",
    "newu = []\n",
    "for i in range(len(u)):\n",
    "    newu.append(u[i])\n",
    "length = 0\n",
    "for i in range(len(newu)):\n",
    "    length += newu[i]\n",
    "print(\"the summation of entries is\", length)\n",
    "print(\"r =\", -6/length)"
   ]
  },
  {
   "cell_type": "code",
   "execution_count": 12,
   "metadata": {
    "editable": true,
    "slideshow": {
     "slide_type": ""
    },
    "tags": []
   },
   "outputs": [
    {
     "name": "stdout",
     "output_type": "stream",
     "text": [
      "-1 :square -> 1\n",
      "1 :square -> 1\n",
      "-2 :square -> 4\n",
      "the summation is 6\n",
      "then the length is 2.449489742783178\n",
      "\n",
      "the square root of 6 is 2.449489742783178\n"
     ]
    }
   ],
   "source": [
    "u = [-1, 1, -2]\n",
    "length_square = 0\n",
    "for i in range(len(u)):\n",
    "    print(u[i], \":square ->\", u[i]**2) # print each entry and its square value\n",
    "    length_square = length_square + u[i]**2 # sum up the square of each entry\n",
    "\n",
    "length = length_square ** 0.5 # take the square root of the summation of the squares of all entries\n",
    "print(\"the summation is\", length_square)\n",
    "print(\"then the length is\", length)\n",
    "\n",
    "# for square root, we can also use built-in function math.sqrt\n",
    "print() # print an empty line\n",
    "from math import sqrt\n",
    "print(\"the square root of\", length_square, \"is\", sqrt(length_square))"
   ]
  },
  {
   "cell_type": "code",
   "execution_count": 13,
   "metadata": {
    "editable": true,
    "slideshow": {
     "slide_type": ""
    },
    "tags": []
   },
   "outputs": [
    {
     "name": "stdout",
     "output_type": "stream",
     "text": [
      "[1, -2, 2, 4] 25\n"
     ]
    }
   ],
   "source": [
    "u = [1, -2, 2, 4]\n",
    "uu = 0\n",
    "for i in range(len(u)):\n",
    "    uu += pow(u[i], 2)\n",
    "print(u, uu)"
   ]
  },
  {
   "cell_type": "code",
   "execution_count": 14,
   "metadata": {
    "editable": true,
    "slideshow": {
     "slide_type": ""
    },
    "tags": []
   },
   "outputs": [
    {
     "name": "stdout",
     "output_type": "stream",
     "text": [
      "[1, 2, 3] [1, 2, -3] -4\n"
     ]
    }
   ],
   "source": [
    "u = [1, 2, 3]\n",
    "v = [1, 2, -3]\n",
    "uv = 0\n",
    "for i in range(len(u)):\n",
    "    uv += u[i] * v[i]\n",
    "print(u, v, uv)"
   ]
  },
  {
   "cell_type": "code",
   "execution_count": 25,
   "metadata": {
    "editable": true,
    "slideshow": {
     "slide_type": ""
    },
    "tags": []
   },
   "outputs": [
    {
     "name": "stdout",
     "output_type": "stream",
     "text": [
      "M is\n",
      "[1, 0, -2]\n",
      "[-2, -1, 3]\n",
      "[0, 1, -2]\n",
      "\n",
      "N is\n",
      "[-1, 3, 2]\n",
      "[0, 2, 1]\n",
      "[4, -1, 0]\n",
      "\n",
      "C is -2M + 3N\n",
      "C is\n",
      "[-5, 9, 10]\n",
      "[4, 8, -3]\n",
      "[12, -5, 4]\n",
      "\n",
      "-3\n"
     ]
    }
   ],
   "source": [
    "M = [\n",
    "    [1, 0, -2],\n",
    "    [-2, -1, 3],\n",
    "    [0, 1, -2]\n",
    "]\n",
    "N = [\n",
    "    [-1, 3, 2],\n",
    "    [0, 2, 1],\n",
    "    [4, -1, 0]\n",
    "]\n",
    "print(\"M is\")\n",
    "for i in range(len(M)):\n",
    "    print(M[i])\n",
    "print()    \n",
    "print(\"N is\")\n",
    "for i in range(len(N)):\n",
    "    print(N[i])\n",
    "print()\n",
    "C = []\n",
    "for i in range(3):\n",
    "    C.append([])\n",
    "    for j in range(3):\n",
    "        C[i].append(-2 * M[i][j] + 3 * N[i][j])\n",
    "print(\"C is -2M + 3N\")\n",
    "print(\"C is\")\n",
    "for i in range(len(C)):\n",
    "    print(C[i])\n",
    "print()\n",
    "print(C[1][2])"
   ]
  },
  {
   "cell_type": "code",
   "execution_count": 27,
   "metadata": {
    "editable": true,
    "slideshow": {
     "slide_type": ""
    },
    "tags": []
   },
   "outputs": [
    {
     "name": "stdout",
     "output_type": "stream",
     "text": [
      "M is\n",
      "[1, 0, -2]\n",
      "[-2, -1, 3]\n",
      "[0, 1, -2]\n",
      "\n",
      "N is\n",
      "[-1, 3, 2]\n",
      "[0, 2, 1]\n",
      "[4, -1, 0]\n",
      "\n",
      "K is\n",
      "[-7, -1, 7]\n",
      "[-4, -1, 4]\n",
      "[6, 1, -11]\n",
      "\n",
      "4\n"
     ]
    }
   ],
   "source": [
    "M = [\n",
    "    [1, 0, -2],\n",
    "    [-2, -1, 3],\n",
    "    [0, 1, -2]\n",
    "]\n",
    "N = [\n",
    "    [-1, 3, 2],\n",
    "    [0, 2, 1],\n",
    "    [4, -1, 0]\n",
    "]\n",
    "K = []\n",
    "for i in range(3):\n",
    "    K.append([])\n",
    "    for j in range(3):\n",
    "        S = 0\n",
    "        for k in range(3):\n",
    "            S += N[i][k] * M[k][j]\n",
    "        K[i].append(S)\n",
    "print(\"M is\")\n",
    "for i in range(len(M)):\n",
    "    print(M[i])\n",
    "print()\n",
    "print(\"N is\")\n",
    "for i in range(len(N)):\n",
    "    print(N[i])\n",
    "print()\n",
    "print(\"K is\")\n",
    "for i in range(len(K)):\n",
    "    print(K[i])\n",
    "print()\n",
    "print(K[1][2])"
   ]
  },
  {
   "cell_type": "code",
   "execution_count": 29,
   "metadata": {
    "editable": true,
    "slideshow": {
     "slide_type": ""
    },
    "tags": []
   },
   "outputs": [
    {
     "name": "stdout",
     "output_type": "stream",
     "text": [
      "A is\n",
      "[1, 0]\n",
      "[2, -1]\n",
      "\n",
      "Transpose of A is\n",
      "[1, 2]\n",
      "[0, -1]\n",
      "\n",
      "K is\n",
      "[1, 2]\n",
      "[2, 5]\n"
     ]
    }
   ],
   "source": [
    "A = [\n",
    "    [1, 0],\n",
    "    [2, -1]\n",
    "]\n",
    "AT = []\n",
    "for i in range(2):\n",
    "    AT.append([])\n",
    "    for j in range(2):\n",
    "        AT[i].append(0)\n",
    "for i in range(2):\n",
    "    for j in range(2):\n",
    "        AT[j][i] = A[i][j]\n",
    "print(\"A is\")\n",
    "for i in range(len(A)):\n",
    "    print(A[i])\n",
    "print()\n",
    "print(\"Transpose of A is\")\n",
    "for i in range(len(AT)):\n",
    "    print(AT[i])\n",
    "print()\n",
    "K = []\n",
    "for i in range(2):\n",
    "    K.append([])\n",
    "    for j in range(2):\n",
    "        S = 0\n",
    "        for k in range(2):\n",
    "            S += A[i][k] * AT[k][j]\n",
    "        K[i].append(S)\n",
    "print(\"K is\")\n",
    "for i in range(len(K)):\n",
    "    print(K[i])"
   ]
  },
  {
   "cell_type": "code",
   "execution_count": 30,
   "metadata": {},
   "outputs": [
    {
     "name": "stdout",
     "output_type": "stream",
     "text": [
      "A is\n",
      "[1, 0]\n",
      "[2, -1]\n",
      "\n",
      "Transpose of A is\n",
      "[1, 2]\n",
      "[0, -1]\n",
      "\n",
      "K is\n",
      "[5, -2]\n",
      "[-2, 1]\n"
     ]
    }
   ],
   "source": [
    "A = [\n",
    "    [1, 0],\n",
    "    [2, -1]\n",
    "]\n",
    "AT = []\n",
    "for i in range(2):\n",
    "    AT.append([])\n",
    "    for j in range(2):\n",
    "        AT[i].append(0)\n",
    "for i in range(2):\n",
    "    for j in range(2):\n",
    "        AT[j][i] = A[i][j]\n",
    "print(\"A is\")\n",
    "for i in range(len(A)):\n",
    "    print(A[i])\n",
    "print()\n",
    "print(\"Transpose of A is\")\n",
    "for i in range(len(AT)):\n",
    "    print(AT[i])\n",
    "print()\n",
    "K = []\n",
    "for i in range(2):\n",
    "    K.append([])\n",
    "    for j in range(2):\n",
    "        S = 0\n",
    "        for k in range(2):\n",
    "            S += AT[i][k] * A[k][j]\n",
    "        K[i].append(S)\n",
    "print(\"K is\")\n",
    "for i in range(len(K)):\n",
    "    print(K[i])"
   ]
  },
  {
   "cell_type": "code",
   "execution_count": 31,
   "metadata": {
    "editable": true,
    "slideshow": {
     "slide_type": ""
    },
    "tags": []
   },
   "outputs": [
    {
     "name": "stdout",
     "output_type": "stream",
     "text": [
      "u = [1, 2]\n",
      "v = [1, 3, 5]\n",
      "uv = [1, 3, 5, 2, 6, 10]\n"
     ]
    }
   ],
   "source": [
    "u = [1, 2]\n",
    "v = [1, 3, 5]\n",
    "uv = []\n",
    "for i in range(len(u)):\n",
    "    for j in range(len(v)):\n",
    "        uv.append(u[i] * v[j])\n",
    "print(\"u =\", u)\n",
    "print(\"v =\", v)\n",
    "print(\"uv =\", uv)"
   ]
  },
  {
   "cell_type": "code",
   "execution_count": 32,
   "metadata": {
    "editable": true,
    "slideshow": {
     "slide_type": ""
    },
    "tags": []
   },
   "outputs": [
    {
     "name": "stdout",
     "output_type": "stream",
     "text": [
      "u = [1, 2]\n",
      "v = [1, 3, 5]\n",
      "vu = [1, 2, 3, 6, 5, 10]\n"
     ]
    }
   ],
   "source": [
    "u = [1, 2]\n",
    "v = [1, 3, 5]\n",
    "vu = []\n",
    "for i in range(len(v)):\n",
    "    for j in range(len(u)):\n",
    "        vu.append(v[i] * u[j])\n",
    "print(\"u =\", u)\n",
    "print(\"v =\", v)\n",
    "print(\"vu =\", vu)"
   ]
  },
  {
   "cell_type": "code",
   "execution_count": 34,
   "metadata": {
    "editable": true,
    "slideshow": {
     "slide_type": ""
    },
    "tags": []
   },
   "outputs": [
    {
     "name": "stdout",
     "output_type": "stream",
     "text": [
      "M-tensor-N is\n",
      "[2, 3, 0, 0]\n",
      "[0, 5, 0, 0]\n",
      "[-2, -3, 4, 6]\n",
      "[0, -5, 0, 10]\n",
      "\n",
      "6\n"
     ]
    }
   ],
   "source": [
    "# matrix M\n",
    "M = [ \n",
    "    [1, 0],\n",
    "    [-1, 2]\n",
    "]\n",
    "\n",
    "# matrix N\n",
    "N = [\n",
    "    [2, 3],\n",
    "    [0, 5]\n",
    "]\n",
    "\n",
    "# MN will be a (4x4)-dimensional matrix\n",
    "# prepare it as a zero matrix\n",
    "# this helps us to easily fill it \n",
    "MN=[]\n",
    "for i in range(4):\n",
    "    MN.append([])\n",
    "    for j in range(4):\n",
    "        MN[i].append(0)\n",
    "\n",
    "for i in range(2): # row of M\n",
    "    for j in range(2): # column of M\n",
    "        for k in range(2): # row of N\n",
    "            for l in range(2): # column of N\n",
    "                MN[i*2+k][2*j+l] = M[i][j] * N[k][l] \n",
    "\n",
    "print(\"M-tensor-N is\")                \n",
    "for i in range(4):\n",
    "    print(MN[i])\n",
    "print()\n",
    "print(MN[2][3])"
   ]
  },
  {
   "cell_type": "code",
   "execution_count": 35,
   "metadata": {},
   "outputs": [
    {
     "name": "stdout",
     "output_type": "stream",
     "text": [
      "N-tensor-M is\n",
      "[2, 0, 3, 0]\n",
      "[-2, 4, -3, 6]\n",
      "[0, 0, 5, 0]\n",
      "[0, 0, -5, 10]\n",
      "\n",
      "0\n"
     ]
    }
   ],
   "source": [
    "# matrix M\n",
    "M = [ \n",
    "    [1, 0],\n",
    "    [-1, 2]\n",
    "]\n",
    "\n",
    "# matrix N\n",
    "N = [\n",
    "    [2, 3],\n",
    "    [0, 5]\n",
    "]\n",
    "\n",
    "# MN will be a (4x4)-dimensional matrix\n",
    "# prepare it as a zero matrix\n",
    "# this helps us to easily fill it \n",
    "NM=[]\n",
    "for i in range(4):\n",
    "    NM.append([])\n",
    "    for j in range(4):\n",
    "        NM[i].append(0)\n",
    "\n",
    "for i in range(2): # row of N\n",
    "    for j in range(2): # column of N\n",
    "        for k in range(2): # row of M\n",
    "            for l in range(2): # column of M\n",
    "                NM[i*2+k][2*j+l] = N[i][j] * M[k][l] \n",
    "\n",
    "print(\"N-tensor-M is\")                \n",
    "for i in range(4):\n",
    "    print(NM[i])\n",
    "print()\n",
    "print(NM[2][3])"
   ]
  },
  {
   "cell_type": "code",
   "execution_count": 37,
   "metadata": {
    "editable": true,
    "slideshow": {
     "slide_type": ""
    },
    "tags": []
   },
   "outputs": [
    {
     "name": "stdout",
     "output_type": "stream",
     "text": [
      "M-tensor-N is\n",
      "[0, 2, 0, -4, 0, 0]\n",
      "[-3, 1, 6, -2, 0, 0]\n",
      "[1, -1, -2, 2, 0, 0]\n",
      "[0, 4, 0, 2, 0, -4]\n",
      "[-6, 2, -3, 1, 6, -2]\n",
      "[2, -2, 1, -1, -2, 2]\n",
      "\n",
      "-2\n",
      "6\n"
     ]
    }
   ],
   "source": [
    "# matrix M\n",
    "M = [ \n",
    "    [-1, 2, 0],\n",
    "    [-2, -1, 2]\n",
    "]\n",
    "\n",
    "# matrix N\n",
    "N = [\n",
    "    [0, -2],\n",
    "    [3, -1],\n",
    "    [-1, 1]\n",
    "]\n",
    "\n",
    "# MN will be a (6x6)-dimensional matrix\n",
    "# prepare it as a zero matrix\n",
    "# this helps us to easily fill it \n",
    "MN=[]\n",
    "for i in range(6):\n",
    "    MN.append([])\n",
    "    for j in range(6):\n",
    "        MN[i].append(0)\n",
    "\n",
    "for i in range(2): # row of M\n",
    "    for j in range(3): # column of M\n",
    "        for k in range(3): # row of N\n",
    "            for l in range(2): # column of N\n",
    "                MN[i*3+k][2*j+l] = M[i][j] * N[k][l] \n",
    "\n",
    "print(\"M-tensor-N is\")                \n",
    "for i in range(6):\n",
    "    print(MN[i])\n",
    "print()\n",
    "print(MN[2][2])\n",
    "print(MN[4][4])"
   ]
  },
  {
   "cell_type": "code",
   "execution_count": null,
   "metadata": {},
   "outputs": [],
   "source": []
  }
 ],
 "metadata": {
  "kernelspec": {
   "display_name": "Python 3 (ipykernel)",
   "language": "python",
   "name": "python3"
  },
  "language_info": {
   "codemirror_mode": {
    "name": "ipython",
    "version": 3
   },
   "file_extension": ".py",
   "mimetype": "text/x-python",
   "name": "python",
   "nbconvert_exporter": "python",
   "pygments_lexer": "ipython3",
   "version": "3.11.6"
  }
 },
 "nbformat": 4,
 "nbformat_minor": 4
}
