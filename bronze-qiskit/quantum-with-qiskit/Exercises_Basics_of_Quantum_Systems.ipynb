{
 "cells": [
  {
   "cell_type": "markdown",
   "metadata": {},
   "source": [
    "<a href=\"https://qworld.net\" target=\"_blank\" align=\"left\"><img src=\"../qworld/images/header.jpg\"  align=\"left\"></a>\n",
    "$ \\newcommand{\\bra}[1]{\\langle #1|} $\n",
    "$ \\newcommand{\\ket}[1]{|#1\\rangle} $\n",
    "$ \\newcommand{\\braket}[2]{\\langle #1|#2\\rangle} $\n",
    "$ \\newcommand{\\dot}[2]{ #1 \\cdot #2} $\n",
    "$ \\newcommand{\\biginner}[2]{\\left\\langle #1,#2\\right\\rangle} $\n",
    "$ \\newcommand{\\mymatrix}[2]{\\left( \\begin{array}{#1} #2\\end{array} \\right)} $\n",
    "$ \\newcommand{\\myvector}[1]{\\mymatrix{c}{#1}} $\n",
    "$ \\newcommand{\\myrvector}[1]{\\mymatrix{r}{#1}} $\n",
    "$ \\newcommand{\\mypar}[1]{\\left( #1 \\right)} $\n",
    "$ \\newcommand{\\mybigpar}[1]{ \\Big( #1 \\Big)} $\n",
    "$ \\newcommand{\\sqrttwo}{\\frac{1}{\\sqrt{2}}} $\n",
    "$ \\newcommand{\\dsqrttwo}{\\dfrac{1}{\\sqrt{2}}} $\n",
    "$ \\newcommand{\\onehalf}{\\frac{1}{2}} $\n",
    "$ \\newcommand{\\donehalf}{\\dfrac{1}{2}} $\n",
    "$ \\newcommand{\\hadamard}{ \\mymatrix{rr}{ \\sqrttwo & \\sqrttwo \\\\ \\sqrttwo & -\\sqrttwo }} $\n",
    "$ \\newcommand{\\vzero}{\\myvector{1\\\\0}} $\n",
    "$ \\newcommand{\\vone}{\\myvector{0\\\\1}} $\n",
    "$ \\newcommand{\\stateplus}{\\myvector{ \\sqrttwo \\\\  \\sqrttwo } } $\n",
    "$ \\newcommand{\\stateminus}{ \\myrvector{ \\sqrttwo \\\\ -\\sqrttwo } } $\n",
    "$ \\newcommand{\\myarray}[2]{ \\begin{array}{#1}#2\\end{array}} $\n",
    "$ \\newcommand{\\X}{ \\mymatrix{cc}{0 & 1 \\\\ 1 & 0}  } $\n",
    "$ \\newcommand{\\I}{ \\mymatrix{rr}{1 & 0 \\\\ 0 & 1}  } $\n",
    "$ \\newcommand{\\Z}{ \\mymatrix{rr}{1 & 0 \\\\ 0 & -1}  } $\n",
    "$ \\newcommand{\\Htwo}{ \\mymatrix{rrrr}{ \\frac{1}{2} & \\frac{1}{2} & \\frac{1}{2} & \\frac{1}{2} \\\\ \\frac{1}{2} & -\\frac{1}{2} & \\frac{1}{2} & -\\frac{1}{2} \\\\ \\frac{1}{2} & \\frac{1}{2} & -\\frac{1}{2} & -\\frac{1}{2} \\\\ \\frac{1}{2} & -\\frac{1}{2} & -\\frac{1}{2} & \\frac{1}{2} } } $\n",
    "$ \\newcommand{\\CNOT}{ \\mymatrix{cccc}{1 & 0 & 0 & 0 \\\\ 0 & 1 & 0 & 0 \\\\ 0 & 0 & 0 & 1 \\\\ 0 & 0 & 1 & 0} } $\n",
    "$ \\newcommand{\\norm}[1]{ \\left\\lVert #1 \\right\\rVert } $\n",
    "$ \\newcommand{\\pstate}[1]{ \\lceil \\mspace{-1mu} #1 \\mspace{-1.5mu} \\rfloor } $\n",
    "$ \\newcommand{\\greenbit}[1] {\\mathbf{{\\color{green}#1}}} $\n",
    "$ \\newcommand{\\bluebit}[1] {\\mathbf{{\\color{blue}#1}}} $\n",
    "$ \\newcommand{\\redbit}[1] {\\mathbf{{\\color{red}#1}}} $\n",
    "$ \\newcommand{\\brownbit}[1] {\\mathbf{{\\color{brown}#1}}} $\n",
    "$ \\newcommand{\\blackbit}[1] {\\mathbf{{\\color{black}#1}}} $"
   ]
  },
  {
   "cell_type": "markdown",
   "metadata": {},
   "source": [
    "<font style=\"font-size:28px;\" align=\"left\"><b> Exercises for Basics of Quantum Systems </b></font>\n",
    "<br>\n",
    "_prepared by Abuzer Yakaryilmaz_\n",
    "<br><br>"
   ]
  },
  {
   "cell_type": "markdown",
   "metadata": {},
   "source": [
    "Run the following cell to open the exercises.\n",
    "\n",
    "<i><a href=\"https://www.mathjax.org\" target=\"_blank\">MathJax</a> is used to express mathematical expressions and it requires internet connection.</i>\n",
    "<hr>"
   ]
  },
  {
   "cell_type": "code",
   "execution_count": 1,
   "metadata": {
    "scrolled": true
   },
   "outputs": [
    {
     "data": {
      "text/plain": [
       "True"
      ]
     },
     "execution_count": 1,
     "metadata": {},
     "output_type": "execute_result"
    },
    {
     "name": "stderr",
     "output_type": "stream",
     "text": [
      "[1882:1882:0103/044603.096702:ERROR:policy_logger.cc(156)] :components/enterprise/browser/controller/chrome_browser_cloud_management_controller.cc(161) Cloud management controller initialization aborted as CBCM is not enabled. Please use the `--enable-chrome-browser-cloud-management` command line flag to enable it if you are not using the official Google Chrome build.\n",
      "'\\\\wsl.localhost\\Ubuntu\\home\\edmondium\\bronze-qiskit\\quantum-with-qiskit'\n",
      "CMD.EXE was started with the above path as the current directory.\n",
      "UNC paths are not supported.  Defaulting to Windows directory.\n",
      "sh: 1: /mnt/c/Users/edmon/AppData/Local/Microsoft/WindowsApps/MSAL.wsl.proxy.exe: not found\n",
      "[0103/044609.359438:ERROR:file_io_posix.cc(145)] open /sys/devices/system/cpu/cpu0/cpufreq/scaling_cur_freq: No such file or directory (2)\n",
      "[0103/044609.359568:ERROR:file_io_posix.cc(145)] open /sys/devices/system/cpu/cpu0/cpufreq/scaling_max_freq: No such file or directory (2)\n",
      "Deserialization failed!\n",
      "Deserialization failed!\n",
      "[0103/044903.993557:ERROR:file_io_posix.cc(145)] open /sys/devices/system/cpu/cpu0/cpufreq/scaling_cur_freq: No such file or directory (2)\n",
      "[0103/044903.993609:ERROR:file_io_posix.cc(145)] open /sys/devices/system/cpu/cpu0/cpufreq/scaling_max_freq: No such file or directory (2)\n"
     ]
    }
   ],
   "source": [
    "import os, webbrowser\n",
    "webbrowser.open(os.path.abspath(\"Exercises_Basics_of_Quantum_Systems.html\"))"
   ]
  },
  {
   "cell_type": "code",
   "execution_count": 12,
   "metadata": {},
   "outputs": [
    {
     "name": "stdout",
     "output_type": "stream",
     "text": [
      "State |u> = ['1/3 - 1/√3, 1/3 + 1/√3, x']\n",
      "Total is 0.8888888888888892\n",
      "The missing part is 0.11111111111111083\n",
      "so, the amplitude  of 'x' can be 0.3333333333333329 or -0.3333333333333329\n",
      "The probability of 'x^2' is 0.11111111111111083\n"
     ]
    }
   ],
   "source": [
    "import math\n",
    "print(\"State |u> =\", ['1/3 - 1/\\u221A3, 1/3 + 1/\\u221A3, x'])\n",
    "values =[1/3 - 1/math.sqrt(3), 1/3 + 1/math.sqrt(3)]\n",
    "total = 0\n",
    "for i in range(len(values)):\n",
    "    total += pow(values[i], 2)\n",
    "print(\"Total is\", total)\n",
    "print(\"The missing part is\", 1 - total)\n",
    "print(\"so, the amplitude  of 'x' can be\", pow(1 - total, 0.5), \"or\", -pow(1 - total, 0.5))\n",
    "print(\"The probability of 'x^2' is\", 1 - total)"
   ]
  },
  {
   "cell_type": "code",
   "execution_count": 16,
   "metadata": {},
   "outputs": [
    {
     "name": "stdout",
     "output_type": "stream",
     "text": [
      "its radian value is 2.0943951023931953\n",
      "\n",
      "the amplitude of state |0> is -0.4999999999999998\n",
      "the amplitude of state |1> is 0.8660254037844387\n",
      "\n",
      "the probability of observing state |0> is 0.24999999999999978\n",
      "the probability of observing state |1> is 0.7500000000000001\n",
      "the total probability is 1.0\n"
     ]
    },
    {
     "data": {
      "image/png": "[encoded data removed]",
      "text/plain": [
       "<Figure size 360x360 with 1 Axes>"
      ]
     },
     "metadata": {},
     "output_type": "display_data"
    }
   ],
   "source": [
    "from matplotlib.pyplot import figure,gca, arrow\n",
    "from matplotlib.patches import Arc\n",
    "from math import sin,cos,pi\n",
    "\n",
    "# draw a figure\n",
    "figure(figsize=(6,6), dpi=60)\n",
    "\n",
    "%run quantum.py\n",
    "\n",
    "draw_axes()\n",
    "\n",
    "myangle_in_radian = 2*pi/3\n",
    "\n",
    "print(\"its radian value is\",myangle_in_radian)\n",
    "\n",
    "gca().add_patch( Arc((0,0),0.2,0.2,angle=0,theta1=0,theta2=myangle,color=\"red\",linewidth=2) )\n",
    "\n",
    "gca().add_patch( Arc((0,0),2,2,angle=0,theta1=0,theta2=myangle,color=\"brown\",linewidth=2) )\n",
    "\n",
    "x = cos(myangle_in_radian)\n",
    "y = sin(myangle_in_radian)\n",
    "\n",
    "draw_quantum_state(x,y,\"|v>\")\n",
    "\n",
    "# the projection on |0>-axis\n",
    "arrow(0,0,x,0,color=\"blue\",linewidth=1)\n",
    "arrow(0,y,x,0,color=\"blue\",linestyle='dashed')\n",
    "\n",
    "# the projection on |1>-axis\n",
    "arrow(0,0,0,y,color=\"blue\",linewidth=1)\n",
    "arrow(x,0,0,y,color=\"blue\",linestyle='dashed')\n",
    "\n",
    "print()\n",
    "print(\"the amplitude of state |0> is\",x)\n",
    "print(\"the amplitude of state |1> is\",y)\n",
    "print()\n",
    "print(\"the probability of observing state |0> is\",x*x)\n",
    "print(\"the probability of observing state |1> is\",y*y)\n",
    "print(\"the total probability is\",round(x*x+y*y,6))"
   ]
  },
  {
   "cell_type": "code",
   "execution_count": 24,
   "metadata": {},
   "outputs": [
    {
     "name": "stdout",
     "output_type": "stream",
     "text": [
      "H is\n",
      "[0.7071067811865475, 0.7071067811865475]\n",
      "[0.7071067811865475, -0.7071067811865475]\n",
      "\n",
      "K is\n",
      "[0.9999999999999998, 0.0]\n",
      "[0.0, 0.9999999999999998]\n"
     ]
    }
   ],
   "source": [
    "# matrix H\n",
    "import math\n",
    "H = [\n",
    "    [1/math.sqrt(2), 1/math.sqrt(2)],\n",
    "    [1/math.sqrt(2), -1/math.sqrt(2)]\n",
    "]\n",
    "\n",
    "# matrix K\n",
    "K = []\n",
    "\n",
    "#\n",
    "# your solution is here\n",
    "#\n",
    "for i in range(2):\n",
    "    K.append([])\n",
    "    for j in range(2):\n",
    "        S = 0\n",
    "        for k in range(2):\n",
    "            S += H[i][k] * H[k][j]\n",
    "        K[i].append(S)\n",
    "print(\"H is\")\n",
    "for i in range(len(H)):\n",
    "    print(H[i])\n",
    "print()\n",
    "print(\"K is\")\n",
    "for i in range(len(K)):\n",
    "    print(K[i])"
   ]
  },
  {
   "cell_type": "code",
   "execution_count": 45,
   "metadata": {},
   "outputs": [
    {
     "data": {
      "image/png": "[encoded data removed]",
      "text/plain": [
       "<Figure size 621.941x200.667 with 1 Axes>"
      ]
     },
     "metadata": {},
     "output_type": "display_data"
    },
    {
     "name": "stdout",
     "output_type": "stream",
     "text": [
      "{'1': 1000000}\n"
     ]
    }
   ],
   "source": [
    "from qiskit import QuantumRegister, ClassicalRegister, QuantumCircuit, execute, Aer\n",
    "q = QuantumRegister(1)\n",
    "c = ClassicalRegister(1)\n",
    "qc = QuantumCircuit(q, c)\n",
    "qc.h(q[0])\n",
    "qc.x(q[0])\n",
    "qc.x(q[0])\n",
    "qc.h(q[0])\n",
    "qc.x(q[0])\n",
    "qc.measure(q, c)\n",
    "display(qc.draw(output=\"mpl\", style=\"iqp\"))\n",
    "job = Aer.get_backend(\"aer_simulator\")\n",
    "job.set_options(device = \"GPU\")\n",
    "result = job.run(qc, shots = 1000000).result()\n",
    "counts = result.get_counts(qc)\n",
    "print(counts)"
   ]
  },
  {
   "cell_type": "code",
   "execution_count": 46,
   "metadata": {},
   "outputs": [
    {
     "data": {
      "image/png": "[encoded data removed]",
      "text/plain": [
       "<Figure size 639.768x200.667 with 1 Axes>"
      ]
     },
     "metadata": {},
     "output_type": "display_data"
    },
    {
     "name": "stdout",
     "output_type": "stream",
     "text": [
      "{'0': 1000000}\n"
     ]
    }
   ],
   "source": [
    "from qiskit import QuantumRegister, ClassicalRegister, QuantumCircuit, execute, Aer\n",
    "q = QuantumRegister(1)\n",
    "c = ClassicalRegister(1)\n",
    "qc = QuantumCircuit(q, c)\n",
    "qc.x(q[0])\n",
    "qc.h(q[0])\n",
    "qc.x(q[0])\n",
    "qc.h(q[0])\n",
    "qc.x(q[0])\n",
    "qc.measure(q, c)\n",
    "display(qc.draw(output=\"mpl\", style=\"iqp\"))\n",
    "job = Aer.get_backend(\"aer_simulator\")\n",
    "job.set_options(device = \"GPU\")\n",
    "result = job.run(qc, shots = 1000000).result()\n",
    "counts = result.get_counts(qc)\n",
    "print(counts)"
   ]
  },
  {
   "cell_type": "code",
   "execution_count": 47,
   "metadata": {},
   "outputs": [
    {
     "data": {
      "image/png": "[encoded data removed]",
      "text/plain": [
       "<Figure size 556.358x200.667 with 1 Axes>"
      ]
     },
     "metadata": {},
     "output_type": "display_data"
    },
    {
     "name": "stdout",
     "output_type": "stream",
     "text": [
      "{'1': 1000000}\n"
     ]
    }
   ],
   "source": [
    "from qiskit import QuantumRegister, ClassicalRegister, QuantumCircuit, execute, Aer\n",
    "q = QuantumRegister(1)\n",
    "c = ClassicalRegister(1)\n",
    "qc = QuantumCircuit(q, c)\n",
    "qc.x(q[0])\n",
    "qc.h(q[0])\n",
    "qc.x(q[0])\n",
    "qc.h(q[0])\n",
    "qc.measure(q, c)\n",
    "display(qc.draw(output=\"mpl\", style=\"iqp\"))\n",
    "job = Aer.get_backend(\"aer_simulator\")\n",
    "job.set_options(device = \"GPU\")\n",
    "result = job.run(qc, shots = 1000000).result()\n",
    "counts = result.get_counts(qc)\n",
    "print(counts)"
   ]
  },
  {
   "cell_type": "code",
   "execution_count": 44,
   "metadata": {},
   "outputs": [
    {
     "name": "stdout",
     "output_type": "stream",
     "text": [
      "The design of the circuit is done.\n"
     ]
    },
    {
     "data": {
      "image/png": "[encoded data removed]",
      "text/plain": [
       "<Figure size 723.783x535.111 with 1 Axes>"
      ]
     },
     "metadata": {},
     "output_type": "display_data"
    },
    {
     "name": "stdout",
     "output_type": "stream",
     "text": [
      "{'10101': 125154, '11101': 125305, '11001': 124855, '11011': 124871, '11111': 124962, '10111': 124943, '10011': 125557, '10001': 124353}\n"
     ]
    }
   ],
   "source": [
    "from qiskit import QuantumRegister, ClassicalRegister, QuantumCircuit, execute, Aer\n",
    "\n",
    "# define quantum and classical registers and then quantum circuit\n",
    "q2 = QuantumRegister(5)\n",
    "c2 = ClassicalRegister(5)\n",
    "qc2 = QuantumCircuit(q2,c2)\n",
    "\n",
    "# apply x-gate to the first quantum bit\n",
    "qc2.x(q2[0])\n",
    "\n",
    "# apply x-gate to the fifth quantum bit once\n",
    "qc2.x(q2[4])\n",
    "\n",
    "# apply h-gate to the fourth quantum bit\n",
    "qc2.h(q2[3])\n",
    "\n",
    "# apply h-gate to the third quantum bit\n",
    "qc2.h(q2[2])\n",
    "\n",
    "# apply h-gate to the second quantum bit\n",
    "qc2.h(q2[1])\n",
    "\n",
    "# define a barrier (for a better visualization)\n",
    "qc2.barrier()\n",
    "\n",
    "# if the sizes of quantum and classical registers are the same, we can define measurements with a single line of code\n",
    "qc2.measure(q2,c2)\n",
    "# then quantum bits and classical bits are associated with respect to their indices\n",
    "\n",
    "# run the codes until now, and then draw our circuit\n",
    "print(\"The design of the circuit is done.\")\n",
    "\n",
    "display(qc2.draw(output='mpl', style='iqp', reverse_bits=True))\n",
    "\n",
    "job = Aer.get_backend(\"aer_simulator\")\n",
    "job.set_options(device = \"GPU\")\n",
    "result = job.run(qc2, shots = 1000000).result()\n",
    "counts = result.get_counts(qc2)\n",
    "print(counts)"
   ]
  },
  {
   "cell_type": "code",
   "execution_count": 50,
   "metadata": {},
   "outputs": [
    {
     "name": "stdout",
     "output_type": "stream",
     "text": [
      "X is\n",
      "[0, 1]\n",
      "[1, 0]\n",
      "\n",
      "H is\n",
      "[0.7071067811865475, 0.7071067811865475]\n",
      "[0.7071067811865475, -0.7071067811865475]\n",
      "\n",
      "K is\n",
      "[0.7071067811865475, -0.7071067811865475]\n",
      "[0.7071067811865475, 0.7071067811865475]\n",
      "\n",
      "u= [0.7071067811865475, 0.7071067811865475]\n"
     ]
    }
   ],
   "source": [
    "X = [\n",
    "    [0, 1],\n",
    "    [1, 0]\n",
    "]\n",
    "# matrix H\n",
    "import math\n",
    "H = [\n",
    "    [1/math.sqrt(2), 1/math.sqrt(2)],\n",
    "    [1/math.sqrt(2), -1/math.sqrt(2)]\n",
    "]\n",
    "\n",
    "# matrix K\n",
    "K = []\n",
    "\n",
    "#\n",
    "# your solution is here\n",
    "#\n",
    "for i in range(2):\n",
    "    K.append([])\n",
    "    for j in range(2):\n",
    "        S = 0\n",
    "        for k in range(2):\n",
    "            S += X[i][k] * H[k][j]\n",
    "        K[i].append(S)\n",
    "# vector v\n",
    "v = [1, 0]\n",
    "\n",
    "# the result vector u\n",
    "u = []\n",
    "\n",
    "# for each row, we do an inner product\n",
    "for i in range(2):\n",
    "    # inner product for one row is initiated\n",
    "    inner_result = 0 # this variable keeps the summation of the pairwise multiplications\n",
    "    for j in range(2): # the elements in the i-th row\n",
    "        inner_result += K[i][j] * v[j]\n",
    "    # inner product for one row is completed\n",
    "    u.append(inner_result)\n",
    "print(\"X is\")\n",
    "for i in range(len(X)):\n",
    "    print(X[i])\n",
    "print()\n",
    "print(\"H is\")\n",
    "for i in range(len(H)):\n",
    "    print(H[i])\n",
    "print()\n",
    "print(\"K is\")\n",
    "for i in range(len(K)):\n",
    "    print(K[i])\n",
    "print()\n",
    "print(\"u=\",u)"
   ]
  },
  {
   "cell_type": "code",
   "execution_count": 52,
   "metadata": {},
   "outputs": [
    {
     "name": "stdout",
     "output_type": "stream",
     "text": [
      "[0.6, -0.8] are picked quantum state\n",
      "Summation of entry squares is 1.0\n",
      "Is it valid? True\n",
      "[-0.14142135623730956, 0.9899494936611665] are new quantum state\n",
      "Summation of entry squares is 0.9999999999999999\n",
      "Is it valid? True\n"
     ]
    }
   ],
   "source": [
    "def random_quantum_state():\n",
    "    first_entry = 3/5\n",
    "    second_entry = -4/5\n",
    "    length_square = pow(first_entry, 2) + pow(second_entry, 2)\n",
    "    while length_square == 0:\n",
    "        first_entry = 3/5\n",
    "        second_entry = -4/5\n",
    "        length_square = pow(first_entry, 2) + pow(second_entry, 2)\n",
    "    first_entry /= pow(length_square, 0.5)\n",
    "    second_entry /= pow(length_square, 0.5)\n",
    "    return [first_entry, second_entry]\n",
    "def is_quantum_state(quantum_state):\n",
    "    length_square = 0\n",
    "    for i in range(len(quantum_state)):\n",
    "        length_square += pow(quantum_state[i], 2)\n",
    "    print(\"Summation of entry squares is\", length_square)\n",
    "    if pow(length_square - 1, 2) < 0.00000001:\n",
    "        return True\n",
    "    else:\n",
    "        return False\n",
    "def hadamard(result_quantum_state):\n",
    "    # quantum state \n",
    "    quantum_state=[0,0]\n",
    "    quantum_state[0] = (1 / pow(2, 0.5)) * result_quantum_state[0] + (1 / pow(2, 0.5)) * result_quantum_state[1]\n",
    "    quantum_state[1] = (1 / pow(2, 0.5)) * result_quantum_state[0] - (1 / pow(2, 0.5)) * result_quantum_state[1]\n",
    "    #\n",
    "    return quantum_state\n",
    "\n",
    "picked_quantum_state = random_quantum_state()\n",
    "print(picked_quantum_state, \"are picked quantum state\")\n",
    "print(\"Is it valid?\", is_quantum_state(picked_quantum_state))\n",
    "new_quantum_state = hadamard(picked_quantum_state)\n",
    "print(new_quantum_state, \"are new quantum state\")\n",
    "print(\"Is it valid?\", is_quantum_state(new_quantum_state))"
   ]
  },
  {
   "cell_type": "code",
   "execution_count": null,
   "metadata": {},
   "outputs": [],
   "source": []
  }
 ],
 "metadata": {
  "kernelspec": {
   "display_name": "Python 3 (ipykernel)",
   "language": "python",
   "name": "python3"
  },
  "language_info": {
   "codemirror_mode": {
    "name": "ipython",
    "version": 3
   },
   "file_extension": ".py",
   "mimetype": "text/x-python",
   "name": "python",
   "nbconvert_exporter": "python",
   "pygments_lexer": "ipython3",
   "version": "3.11.6"
  }
 },
 "nbformat": 4,
 "nbformat_minor": 4
}
