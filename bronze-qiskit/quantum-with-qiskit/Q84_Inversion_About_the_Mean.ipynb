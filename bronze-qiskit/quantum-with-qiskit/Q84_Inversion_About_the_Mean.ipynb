{
 "cells": [
  {
   "cell_type": "markdown",
   "metadata": {},
   "source": [
    "<a href=\"https://qworld.net\" target=\"_blank\" align=\"left\"><img src=\"../qworld/images/header.jpg\"  align=\"left\"></a>\n",
    "$ \\newcommand{\\bra}[1]{\\langle #1|} $\n",
    "$ \\newcommand{\\ket}[1]{|#1\\rangle} $\n",
    "$ \\newcommand{\\braket}[2]{\\langle #1|#2\\rangle} $\n",
    "$ \\newcommand{\\dot}[2]{ #1 \\cdot #2} $\n",
    "$ \\newcommand{\\biginner}[2]{\\left\\langle #1,#2\\right\\rangle} $\n",
    "$ \\newcommand{\\mymatrix}[2]{\\left( \\begin{array}{#1} #2\\end{array} \\right)} $\n",
    "$ \\newcommand{\\myvector}[1]{\\mymatrix{c}{#1}} $\n",
    "$ \\newcommand{\\myrvector}[1]{\\mymatrix{r}{#1}} $\n",
    "$ \\newcommand{\\mypar}[1]{\\left( #1 \\right)} $\n",
    "$ \\newcommand{\\mybigpar}[1]{ \\Big( #1 \\Big)} $\n",
    "$ \\newcommand{\\sqrttwo}{\\frac{1}{\\sqrt{2}}} $\n",
    "$ \\newcommand{\\dsqrttwo}{\\dfrac{1}{\\sqrt{2}}} $\n",
    "$ \\newcommand{\\onehalf}{\\frac{1}{2}} $\n",
    "$ \\newcommand{\\donehalf}{\\dfrac{1}{2}} $\n",
    "$ \\newcommand{\\hadamard}{ \\mymatrix{rr}{ \\sqrttwo & \\sqrttwo \\\\ \\sqrttwo & -\\sqrttwo }} $\n",
    "$ \\newcommand{\\vzero}{\\myvector{1\\\\0}} $\n",
    "$ \\newcommand{\\vone}{\\myvector{0\\\\1}} $\n",
    "$ \\newcommand{\\stateplus}{\\myvector{ \\sqrttwo \\\\  \\sqrttwo } } $\n",
    "$ \\newcommand{\\stateminus}{ \\myrvector{ \\sqrttwo \\\\ -\\sqrttwo } } $\n",
    "$ \\newcommand{\\myarray}[2]{ \\begin{array}{#1}#2\\end{array}} $\n",
    "$ \\newcommand{\\X}{ \\mymatrix{cc}{0 & 1 \\\\ 1 & 0}  } $\n",
    "$ \\newcommand{\\I}{ \\mymatrix{rr}{1 & 0 \\\\ 0 & 1}  } $\n",
    "$ \\newcommand{\\Z}{ \\mymatrix{rr}{1 & 0 \\\\ 0 & -1}  } $\n",
    "$ \\newcommand{\\Htwo}{ \\mymatrix{rrrr}{ \\frac{1}{2} & \\frac{1}{2} & \\frac{1}{2} & \\frac{1}{2} \\\\ \\frac{1}{2} & -\\frac{1}{2} & \\frac{1}{2} & -\\frac{1}{2} \\\\ \\frac{1}{2} & \\frac{1}{2} & -\\frac{1}{2} & -\\frac{1}{2} \\\\ \\frac{1}{2} & -\\frac{1}{2} & -\\frac{1}{2} & \\frac{1}{2} } } $\n",
    "$ \\newcommand{\\CNOT}{ \\mymatrix{cccc}{1 & 0 & 0 & 0 \\\\ 0 & 1 & 0 & 0 \\\\ 0 & 0 & 0 & 1 \\\\ 0 & 0 & 1 & 0} } $\n",
    "$ \\newcommand{\\norm}[1]{ \\left\\lVert #1 \\right\\rVert } $\n",
    "$ \\newcommand{\\pstate}[1]{ \\lceil \\mspace{-1mu} #1 \\mspace{-1.5mu} \\rfloor } $\n",
    "$ \\newcommand{\\greenbit}[1] {\\mathbf{{\\color{green}#1}}} $\n",
    "$ \\newcommand{\\bluebit}[1] {\\mathbf{{\\color{blue}#1}}} $\n",
    "$ \\newcommand{\\redbit}[1] {\\mathbf{{\\color{red}#1}}} $\n",
    "$ \\newcommand{\\brownbit}[1] {\\mathbf{{\\color{brown}#1}}} $\n",
    "$ \\newcommand{\\blackbit}[1] {\\mathbf{{\\color{black}#1}}} $"
   ]
  },
  {
   "cell_type": "markdown",
   "metadata": {},
   "source": [
    "<font style=\"font-size:28px;\" align=\"left\"><b> Inversion About the Mean </b></font>\n",
    "<br>\n",
    "_prepared by Abuzer Yakaryilmaz and Özlem Salehi_\n",
    "<br><br>\n",
    "[<img src=\"../qworld/images/watch_lecture.jpg\" align=\"left\">](https://youtu.be/RIL2lAwraUA)\n",
    "<br><br><br>"
   ]
  },
  {
   "cell_type": "markdown",
   "metadata": {},
   "source": [
    "We play a simple game to give some ideas about how Grover's search algorithm works.\n",
    "\n",
    "We have a list of N elements. \n",
    "\n",
    "Some of them are marked.\n",
    "\n",
    "At the beginning each has a value of 1.\n",
    "\n",
    " Each iteration of the game has two phases:\n",
    "\n",
    "<ol>\n",
    "    <li><b>Query</b>: In this phase, we assume that each marked element is detected, and then its sign is flipped.</li>\n",
    "    <li><b>Inversion</b>: In this phase, the value of each element is reflected over the mean of all values.</li>\n",
    "</ol>"
   ]
  },
  {
   "cell_type": "markdown",
   "metadata": {},
   "source": [
    "<h3>Task 1</h3>\n",
    "\n",
    "We play this game for $ N = 8 $.\n",
    "\n",
    "Suppose that only the 4th element is marked.\n",
    "\n",
    "We can visualize the values of elements in the list in the beginning as follows."
   ]
  },
  {
   "cell_type": "code",
   "execution_count": 1,
   "metadata": {},
   "outputs": [
    {
     "data": {
      "text/plain": [
       "<BarContainer object of 8 artists>"
      ]
     },
     "execution_count": 1,
     "metadata": {},
     "output_type": "execute_result"
    },
    {
     "data": {
      "image/png": "[encoded data removed]",
      "text/plain": [
       "<Figure size 640x480 with 1 Axes>"
      ]
     },
     "metadata": {},
     "output_type": "display_data"
    }
   ],
   "source": [
    "from matplotlib.pyplot import bar\n",
    "\n",
    "labels = []\n",
    "elements = []\n",
    "for i in range(8):\n",
    "    labels = labels + [i+1]\n",
    "    elements  = elements + [1]\n",
    "\n",
    "# visualize the values of elements in the list \n",
    "bar(labels,elements)"
   ]
  },
  {
   "cell_type": "markdown",
   "metadata": {},
   "source": [
    "Iterate the game for one step and visualize the values of elements in the list after each phase."
   ]
  },
  {
   "cell_type": "markdown",
   "metadata": {},
   "source": [
    "1st step - query phase:"
   ]
  },
  {
   "cell_type": "code",
   "execution_count": 3,
   "metadata": {},
   "outputs": [
    {
     "data": {
      "text/plain": [
       "<BarContainer object of 8 artists>"
      ]
     },
     "execution_count": 3,
     "metadata": {},
     "output_type": "execute_result"
    },
    {
     "data": {
      "image/png": "[encoded data removed]",
      "text/plain": [
       "<Figure size 640x480 with 1 Axes>"
      ]
     },
     "metadata": {},
     "output_type": "display_data"
    }
   ],
   "source": [
    "# \n",
    "# 1st step - query\n",
    "#\n",
    "\n",
    "# change the sign of the marked element, i.e., multiply it by -1\n",
    "elements[3] *= -1\n",
    "# visualize the values of elements in the list \n",
    "bar(labels,elements)"
   ]
  },
  {
   "cell_type": "markdown",
   "metadata": {},
   "source": [
    "1st step - inversion phase:"
   ]
  },
  {
   "cell_type": "code",
   "execution_count": 5,
   "metadata": {},
   "outputs": [
    {
     "data": {
      "text/plain": [
       "<BarContainer object of 8 artists>"
      ]
     },
     "execution_count": 5,
     "metadata": {},
     "output_type": "execute_result"
    },
    {
     "data": {
      "image/png": "[encoded data removed]",
      "text/plain": [
       "<Figure size 640x480 with 1 Axes>"
      ]
     },
     "metadata": {},
     "output_type": "display_data"
    }
   ],
   "source": [
    "#\n",
    "# 1st step - inversion\n",
    "#\n",
    "\n",
    "# calculate the mean of all values \n",
    "sum = 0\n",
    "for i in range(len(elements)):\n",
    "    sum += elements[i]\n",
    "mean = sum/len(elements)\n",
    "# then reflect each element over the mean, e.g.:\n",
    "#   if the mean is 0, then the reflection of 3 is -3\n",
    "#   if the mean is 1, then the reflection of 3 is -1\n",
    "#   if the mean is -1, then the reflection of 3 is -5\n",
    "for i in range(len(elements)):\n",
    "    value = elements[i]\n",
    "    new_value = mean - (value-mean)\n",
    "    elements[i] = new_value\n",
    "# visualize the values of elements in the list \n",
    "bar(labels,elements)"
   ]
  },
  {
   "cell_type": "markdown",
   "metadata": {},
   "source": [
    "Iterate the game for one more step and visualize the values of elements in the list after each phase."
   ]
  },
  {
   "cell_type": "markdown",
   "metadata": {},
   "source": [
    "2nd step - query phase:"
   ]
  },
  {
   "cell_type": "code",
   "execution_count": 6,
   "metadata": {},
   "outputs": [
    {
     "data": {
      "text/plain": [
       "<BarContainer object of 8 artists>"
      ]
     },
     "execution_count": 6,
     "metadata": {},
     "output_type": "execute_result"
    },
    {
     "data": {
      "image/png": "[encoded data removed]",
      "text/plain": [
       "<Figure size 640x480 with 1 Axes>"
      ]
     },
     "metadata": {},
     "output_type": "display_data"
    }
   ],
   "source": [
    "# \n",
    "# 2nd step - query\n",
    "#\n",
    "elements[3] *= -1\n",
    "\n",
    "# visualize the values of elements in the list \n",
    "bar(labels,elements)"
   ]
  },
  {
   "cell_type": "markdown",
   "metadata": {},
   "source": [
    "2nd step - inversion phase:"
   ]
  },
  {
   "cell_type": "code",
   "execution_count": 7,
   "metadata": {},
   "outputs": [
    {
     "data": {
      "text/plain": [
       "<BarContainer object of 8 artists>"
      ]
     },
     "execution_count": 7,
     "metadata": {},
     "output_type": "execute_result"
    },
    {
     "data": {
      "image/png": "[encoded data removed]",
      "text/plain": [
       "<Figure size 640x480 with 1 Axes>"
      ]
     },
     "metadata": {},
     "output_type": "display_data"
    }
   ],
   "source": [
    "#\n",
    "# 2nd step - inversion\n",
    "#\n",
    "sum = 0\n",
    "for i in range(len(elements)):\n",
    "    sum += elements[i]\n",
    "mean = sum/len(elements)\n",
    "for i in range(len(elements)):\n",
    "    value = elements[i]\n",
    "    new_value = mean - (value-mean)\n",
    "    elements[i] = new_value\n",
    "# visualize the values of elements in the list \n",
    "bar(labels,elements)"
   ]
  },
  {
   "cell_type": "markdown",
   "metadata": {},
   "source": [
    "Iterate the game three more steps and visualize the values of elements in the list at the end."
   ]
  },
  {
   "cell_type": "code",
   "execution_count": 8,
   "metadata": {},
   "outputs": [
    {
     "data": {
      "text/plain": [
       "<BarContainer object of 8 artists>"
      ]
     },
     "execution_count": 8,
     "metadata": {},
     "output_type": "execute_result"
    },
    {
     "data": {
      "image/png": "[encoded data removed]",
      "text/plain": [
       "<Figure size 640x480 with 1 Axes>"
      ]
     },
     "metadata": {},
     "output_type": "display_data"
    }
   ],
   "source": [
    "#\n",
    "# your code is here\n",
    "#\n",
    "for i in range(3):\n",
    "    elements[3] *= -1\n",
    "    sum = 0\n",
    "    for i in range(len(elements)):\n",
    "        sum += elements[i]\n",
    "    mean = sum/len(elements)\n",
    "    for i in range(len(elements)):\n",
    "        value = elements[i]\n",
    "        new_value = mean - (value-mean)\n",
    "        elements[i] = new_value\n",
    "# visualize the values of elements in the list \n",
    "bar(labels,elements)"
   ]
  },
  {
   "cell_type": "markdown",
   "metadata": {},
   "source": [
    "<a href=\"Q84_Inversion_About_the_Mean_Solutions.ipynb#task1\">click for our solution</a>"
   ]
  },
  {
   "cell_type": "markdown",
   "metadata": {},
   "source": [
    "<a id=\"task2\"></a>\n",
    "<h3>Task 2</h3>\n",
    "\n",
    "Write a function called *query* that \n",
    "- takes a list of elements and the list of marked elements,\n",
    "- change the sign of the marked elements, and then\n",
    "- returns the list.\n",
    "\n",
    "Write a function called *inversion* that\n",
    "- takes a list of elements and\n",
    "- reflects the value of each element over the mean of all values, and then\n",
    "- return the list.\n",
    "\n",
    "We iterate the same game given in Task 1 ($ N = 8 $ and the 4th element is the only marked one) 20 steps by using the functions *query* and *inversion*. \n",
    "\n",
    "**This time we trace the values of only the 4th element. We store the values of the 4th element on a list after each step, and then, we display this list as a bar chart.**"
   ]
  },
  {
   "cell_type": "code",
   "execution_count": 9,
   "metadata": {},
   "outputs": [],
   "source": [
    "def query(elements=[1],marked_elements=[0]):\n",
    "    #\n",
    "    # your code is here\n",
    "    #    \n",
    "    for i in marked_elements:\n",
    "        elements[i] *= -1\n",
    "    return elements"
   ]
  },
  {
   "cell_type": "code",
   "execution_count": 10,
   "metadata": {},
   "outputs": [],
   "source": [
    "def inversion (elements=[1]):\n",
    "    #\n",
    "    # your code is here\n",
    "    #    \n",
    "    sum = 0\n",
    "    for i in range(len(elements)):\n",
    "        sum += elements[i]\n",
    "    mean = sum/len(elements)\n",
    "    for i in range(len(elements)):\n",
    "        value = elements[i]\n",
    "        new_value = mean - (value-mean)\n",
    "        elements[i] = new_value\n",
    "    return elements"
   ]
  },
  {
   "cell_type": "code",
   "execution_count": 17,
   "metadata": {},
   "outputs": [
    {
     "name": "stdout",
     "output_type": "stream",
     "text": [
      "Iterations: [0, 1, 2, 3, 4, 5, 6, 7, 8, 9, 10, 11, 12, 13, 14, 15, 16, 17, 18, 19, 20]\n",
      "Values = [1, 2.5, 2.75, 1.625, -0.3125, -2.09375, -2.828125, -2.1484375, -0.39453125, 1.556640625, 2.7294921875, 2.53759765625, 1.076904296875, -0.9222412109375, -2.46026611328125, -2.768157958984375, -1.6919708251953125, 0.23020172119140625, 2.037273406982422, 2.8257083892822266, 2.201289176940918]\n"
     ]
    },
    {
     "data": {
      "image/png": "[encoded data removed]",
      "text/plain": [
       "<Figure size 640x480 with 1 Axes>"
      ]
     },
     "metadata": {},
     "output_type": "display_data"
    }
   ],
   "source": [
    "from matplotlib.pyplot import bar\n",
    "\n",
    "# define the list of size 8 on which each element has value of 1\n",
    "elements = []\n",
    "for i in range(8):\n",
    "    elements  = elements + [1]\n",
    "\n",
    "# index of the marked element\n",
    "marked_elements = [3]\n",
    "    \n",
    "# define the list of iterations\n",
    "iterations = []\n",
    "# the list storing the values of the 4th element after each step\n",
    "L = []\n",
    "\n",
    "# the first values\n",
    "iterations.append(0)\n",
    "L.append(elements[marked_elements[0]])\n",
    "\n",
    "for step in range(20):\n",
    "    # store the iteration\n",
    "    iterations.append(step+1)\n",
    "    #\n",
    "    # your code is here\n",
    "    #\n",
    "    elements = query(elements, marked_elements)\n",
    "    elements = inversion(elements)\n",
    "    L.append(elements[marked_elements[0]])\n",
    "# visualize the values of the 4th elements after each iterations\n",
    "bar(iterations,L)\n",
    "print('Iterations:', iterations)\n",
    "print('Values =', L)"
   ]
  },
  {
   "cell_type": "markdown",
   "metadata": {},
   "source": [
    "<a href=\"Q84_Inversion_About_the_Mean_Solutions.ipynb#task2\">click for our solution</a>"
   ]
  },
  {
   "cell_type": "markdown",
   "metadata": {},
   "source": [
    "<h3>Task 3</h3>\n",
    "\n",
    "Repeat Task 2 where $ N = 16 $ and the 11th element is marked."
   ]
  },
  {
   "cell_type": "code",
   "execution_count": 18,
   "metadata": {},
   "outputs": [
    {
     "name": "stdout",
     "output_type": "stream",
     "text": [
      "Iterations: [0, 1, 2, 3, 4, 5, 6, 7, 8, 9, 10, 11, 12, 13, 14, 15, 16, 17, 18, 19, 20]\n",
      "Values = [1, 2.75, 3.8125, 3.921875, 3.05078125, 1.4169921875, -0.571044921875, -2.41632080078125, -3.6575164794921875, -3.984333038330078, -3.315066337585449, -1.817033052444458, 0.1352584958076477, 2.0537354201078415, 3.458778489381075, 3.9991269363090396, 3.5396936491597444, 2.195336949720513, 0.3021460128511535, -1.6665814272309944, -3.218663510505394]\n"
     ]
    },
    {
     "data": {
      "image/png": "[encoded data removed]",
      "text/plain": [
       "<Figure size 640x480 with 1 Axes>"
      ]
     },
     "metadata": {},
     "output_type": "display_data"
    }
   ],
   "source": [
    "#\n",
    "# your code is here\n",
    "#\n",
    "from matplotlib.pyplot import bar\n",
    "elements = []\n",
    "for i in range(16):\n",
    "    elements += [1]\n",
    "marked_elements = [10]\n",
    "iterations = []\n",
    "L = []\n",
    "iterations.append(0)\n",
    "L.append(elements[marked_elements[0]])\n",
    "\n",
    "for step in range(20):\n",
    "    iterations.append(step+1)\n",
    "    elements = query(elements, marked_elements)\n",
    "    elements = inversion(elements)\n",
    "    L.append(elements[marked_elements[0]])\n",
    "bar(iterations, L)\n",
    "print('Iterations:', iterations)\n",
    "print('Values =', L)"
   ]
  },
  {
   "cell_type": "markdown",
   "metadata": {},
   "source": [
    "<a href=\"Q84_Inversion_About_the_Mean_Solutions.ipynb#task3\">click for our solution</a>"
   ]
  },
  {
   "cell_type": "markdown",
   "metadata": {},
   "source": [
    "<h3>Task 4</h3>\n",
    "\n",
    "Repeat Task 3 by tracing only the 5th element where $ N = 16 $ and the 5th, 8th, and 10th elements are marked."
   ]
  },
  {
   "cell_type": "code",
   "execution_count": 19,
   "metadata": {},
   "outputs": [
    {
     "name": "stdout",
     "output_type": "stream",
     "text": [
      "Iterations: [0, 1, 2, 3, 4, 5, 6, 7, 8, 9, 10, 11, 12, 13, 14, 15, 16, 17, 18, 19, 20]\n",
      "Values = [1, 2.25, 1.8125, 0.015625, -1.79296875, -2.2568359375, -1.028076171875, 0.97174072265625, 2.2427520751953125, 1.8316993713378906, 0.04687213897705078, -1.7731091976165771, -2.263258635997772, -1.0559640973806381, 0.9433035142719746, 2.2350934902206063, 1.8505633485037833, 0.07811069540912285, -1.7529249792423798, -2.2692669194620976, -1.0836586700852422]\n"
     ]
    },
    {
     "data": {
      "image/png": "[encoded data removed]",
      "text/plain": [
       "<Figure size 640x480 with 1 Axes>"
      ]
     },
     "metadata": {},
     "output_type": "display_data"
    }
   ],
   "source": [
    "#\n",
    "# your code is here\n",
    "#\n",
    "from matplotlib.pyplot import bar\n",
    "elements = []\n",
    "for i in range(16):\n",
    "    elements += [1]\n",
    "marked_elements = [4, 7, 9]\n",
    "iterations = []\n",
    "L = []\n",
    "iterations.append(0)\n",
    "L.append(elements[marked_elements[0]])\n",
    "\n",
    "for step in range(20):\n",
    "    iterations.append(step+1)\n",
    "    elements = query(elements, marked_elements)\n",
    "    elements = inversion(elements)\n",
    "    L.append(elements[marked_elements[0]])\n",
    "bar(iterations, L)\n",
    "print('Iterations:', iterations)\n",
    "print('Values =', L)"
   ]
  },
  {
   "cell_type": "markdown",
   "metadata": {},
   "source": [
    "<a href=\"Q84_Inversion_About_the_Mean_Solutions.ipynb#task4\">click for our solution</a>"
   ]
  },
  {
   "cell_type": "markdown",
   "metadata": {},
   "source": [
    "<h3>Task 5</h3>\n",
    "\n",
    "We iterate the same game 20 steps where $ N = 16 $ and the marked elements are the first four elements. \n",
    "\n",
    "Print the length of the list of elements (_i.e., consider it as a vector_) after each query and inversion phases. \n",
    "\n",
    "*Remark that the initial length is $ \\sqrt{ \\sum_{i=1}^{N} 1^2 } = \\sqrt{N} = \\sqrt{16}  =4 $.*"
   ]
  },
  {
   "cell_type": "code",
   "execution_count": 21,
   "metadata": {},
   "outputs": [
    {
     "name": "stdout",
     "output_type": "stream",
     "text": [
      "Step 0 : the length after query is 4.0 , the length after inversion is 4.0\n",
      "Step 1 : the length after query is 4.0 , the length after inversion is 4.0\n",
      "Step 2 : the length after query is 4.0 , the length after inversion is 4.0\n",
      "Step 3 : the length after query is 4.0 , the length after inversion is 4.0\n",
      "Step 4 : the length after query is 4.0 , the length after inversion is 4.0\n",
      "Step 5 : the length after query is 4.0 , the length after inversion is 4.0\n",
      "Step 6 : the length after query is 4.0 , the length after inversion is 4.0\n",
      "Step 7 : the length after query is 4.0 , the length after inversion is 4.0\n",
      "Step 8 : the length after query is 4.0 , the length after inversion is 4.0\n",
      "Step 9 : the length after query is 4.0 , the length after inversion is 4.0\n",
      "Step 10 : the length after query is 4.0 , the length after inversion is 4.0\n",
      "Step 11 : the length after query is 4.0 , the length after inversion is 4.0\n",
      "Step 12 : the length after query is 4.0 , the length after inversion is 4.0\n",
      "Step 13 : the length after query is 4.0 , the length after inversion is 4.0\n",
      "Step 14 : the length after query is 4.0 , the length after inversion is 4.0\n",
      "Step 15 : the length after query is 4.0 , the length after inversion is 4.0\n",
      "Step 16 : the length after query is 4.0 , the length after inversion is 4.0\n",
      "Step 17 : the length after query is 4.0 , the length after inversion is 4.0\n",
      "Step 18 : the length after query is 4.0 , the length after inversion is 4.0\n",
      "Step 19 : the length after query is 4.0 , the length after inversion is 4.0\n",
      "Iterations: [0, 1, 2, 3, 4, 5, 6, 7, 8, 9, 10, 11, 12, 13, 14, 15, 16, 17, 18, 19, 20]\n",
      "Values = [1, 2.0, 1.0, -1.0, -2.0, -1.0, 1.0, 2.0, 1.0, -1.0, -2.0, -1.0, 1.0, 2.0, 1.0, -1.0, -2.0, -1.0, 1.0, 2.0, 1.0]\n"
     ]
    },
    {
     "data": {
      "image/png": "[encoded data removed]",
      "text/plain": [
       "<Figure size 640x480 with 1 Axes>"
      ]
     },
     "metadata": {},
     "output_type": "display_data"
    }
   ],
   "source": [
    "#\n",
    "# your code is here\n",
    "#\n",
    "def length(elements = [1]):\n",
    "    sum = 0\n",
    "    for i in elements:\n",
    "        sum += pow(i, 2)\n",
    "    return pow(sum, 0.5)\n",
    "\n",
    "from matplotlib.pyplot import bar\n",
    "elements = []\n",
    "for i in range(16):\n",
    "    elements += [1]\n",
    "marked_elements = [0, 1, 2, 3]\n",
    "iterations = []\n",
    "L = []\n",
    "iterations.append(0)\n",
    "L.append(elements[marked_elements[0]])\n",
    "\n",
    "for step in range(20):\n",
    "    iterations.append(step+1)\n",
    "    elements = query(elements, marked_elements)\n",
    "    elements = inversion(elements)\n",
    "    print(\"Step\", step, ': the length after query is', length(elements), ', the length after inversion is', length(elements))\n",
    "    L.append(elements[marked_elements[0]])\n",
    "bar(iterations, L)\n",
    "print('Iterations:', iterations)\n",
    "print('Values =', L)"
   ]
  },
  {
   "cell_type": "markdown",
   "metadata": {},
   "source": [
    "<a href=\"Q84_Inversion_About_the_Mean_Solutions.ipynb#task5\">click for our solution</a>"
   ]
  },
  {
   "cell_type": "markdown",
   "metadata": {},
   "source": [
    "<h3>Task 6 </h3>\n",
    "\n",
    "Repeat Task 5 where $ N = 10 $ and the last element is marked.\n",
    "\n",
    "*Remark that the initial length is $ \\sqrt{10} $.*"
   ]
  },
  {
   "cell_type": "code",
   "execution_count": 22,
   "metadata": {},
   "outputs": [
    {
     "name": "stdout",
     "output_type": "stream",
     "text": [
      "Step 0 : the length after query is 3.1622776601683795 , the length after inversion is 3.1622776601683795\n",
      "Step 1 : the length after query is 3.1622776601683795 , the length after inversion is 3.1622776601683795\n",
      "Step 2 : the length after query is 3.1622776601683795 , the length after inversion is 3.1622776601683795\n",
      "Step 3 : the length after query is 3.16227766016838 , the length after inversion is 3.16227766016838\n",
      "Step 4 : the length after query is 3.162277660168381 , the length after inversion is 3.162277660168381\n",
      "Step 5 : the length after query is 3.162277660168381 , the length after inversion is 3.162277660168381\n",
      "Step 6 : the length after query is 3.1622776601683804 , the length after inversion is 3.1622776601683804\n",
      "Step 7 : the length after query is 3.1622776601683804 , the length after inversion is 3.1622776601683804\n",
      "Step 8 : the length after query is 3.162277660168381 , the length after inversion is 3.162277660168381\n",
      "Step 9 : the length after query is 3.162277660168381 , the length after inversion is 3.162277660168381\n",
      "Step 10 : the length after query is 3.162277660168381 , the length after inversion is 3.162277660168381\n",
      "Step 11 : the length after query is 3.162277660168381 , the length after inversion is 3.162277660168381\n",
      "Step 12 : the length after query is 3.162277660168381 , the length after inversion is 3.162277660168381\n",
      "Step 13 : the length after query is 3.16227766016838 , the length after inversion is 3.16227766016838\n",
      "Step 14 : the length after query is 3.1622776601683795 , the length after inversion is 3.1622776601683795\n",
      "Step 15 : the length after query is 3.16227766016838 , the length after inversion is 3.16227766016838\n",
      "Step 16 : the length after query is 3.16227766016838 , the length after inversion is 3.16227766016838\n",
      "Step 17 : the length after query is 3.16227766016838 , the length after inversion is 3.16227766016838\n",
      "Step 18 : the length after query is 3.16227766016838 , the length after inversion is 3.16227766016838\n",
      "Step 19 : the length after query is 3.16227766016838 , the length after inversion is 3.16227766016838\n",
      "Iterations: [0, 1, 2, 3, 4, 5, 6, 7, 8, 9, 10, 11, 12, 13, 14, 15, 16, 17, 18, 19, 20]\n",
      "Values = [1, 2.6, 3.16, 2.4560000000000004, 0.7696000000000004, -1.2246400000000004, -2.7290240000000012, -3.141798400000001, -2.2978534400000004, -0.5347671039999997, 1.442226073600001, 2.8423288217600016, 3.1055000412160014, 2.126471244185601, 0.2968539494809602, -1.6515049250160643, -2.939261829506663, -3.0513140021945966, -1.9428405740046917, -0.05723091621290999, 1.8512711080640356]\n"
     ]
    },
    {
     "data": {
      "image/png": "[encoded data removed]",
      "text/plain": [
       "<Figure size 640x480 with 1 Axes>"
      ]
     },
     "metadata": {},
     "output_type": "display_data"
    }
   ],
   "source": [
    "#\n",
    "# your code is here\n",
    "#\n",
    "from matplotlib.pyplot import bar\n",
    "elements = []\n",
    "for i in range(10):\n",
    "    elements += [1]\n",
    "marked_elements = [9]\n",
    "iterations = []\n",
    "L = []\n",
    "iterations.append(0)\n",
    "L.append(elements[marked_elements[0]])\n",
    "\n",
    "for step in range(20):\n",
    "    iterations.append(step+1)\n",
    "    elements = query(elements, marked_elements)\n",
    "    elements = inversion(elements)\n",
    "    print(\"Step\", step, ': the length after query is', length(elements), ', the length after inversion is', length(elements))\n",
    "    L.append(elements[marked_elements[0]])\n",
    "bar(iterations, L)\n",
    "print('Iterations:', iterations)\n",
    "print('Values =', L)"
   ]
  },
  {
   "cell_type": "markdown",
   "metadata": {},
   "source": [
    "<a href=\"Q84_Inversion_About_the_Mean_Solutions.ipynb#task6\">click for our solution</a>"
   ]
  },
  {
   "cell_type": "markdown",
   "metadata": {},
   "source": [
    "### Length preserving game\n",
    "\n",
    "As observed from the last two tasks, each phase of the game is a length preserving operator (function).\n",
    "\n",
    "*Do you think that query and inversion operators are linear? More specifically, can we represent them in the form of a matrix?*\n",
    "\n",
    "The answer for the query operator is easy as it only changes the sign of marked elements, and so its matrix form is very similar to an Identity matrix having -1 in some of the diagonal entries."
   ]
  },
  {
   "cell_type": "markdown",
   "metadata": {},
   "source": [
    "<h3> Modified Game </h3>\n",
    "\n",
    "In this part, we restrict the game by guaranteeing that the list represents a quantum state."
   ]
  },
  {
   "cell_type": "markdown",
   "metadata": {},
   "source": [
    "<h3> Task 7</h3>\n",
    "\n",
    "What are the initial values for the modified game if $ N=8 $?"
   ]
  },
  {
   "cell_type": "markdown",
   "metadata": {},
   "source": [
    "<a href=\"Q84_Inversion_About_the_Mean_Solutions.ipynb#task7\">click for our solution</a>"
   ]
  },
  {
   "cell_type": "markdown",
   "metadata": {},
   "source": [
    "<h3> Task 8</h3>\n",
    "\n",
    "Iterate the modified game for 20 steps where $ N = 8 $ and the second element is marked.\n",
    "\n",
    "Print the list of elements after each phase.\n",
    "\n",
    "Check whether the length of list is 1 after each iteration."
   ]
  },
  {
   "cell_type": "code",
   "execution_count": 24,
   "metadata": {},
   "outputs": [
    {
     "name": "stdout",
     "output_type": "stream",
     "text": [
      "Step 0\n",
      "the list of elements is\n",
      "0.354 0.354 0.354 0.354 0.354 0.354 0.354 0.354 \n",
      "the initial length 1.0\n",
      "\n",
      "after step 1\n",
      "the list of elements is\n",
      "0.177 0.884 0.177 0.177 0.177 0.177 0.177 0.177 \n",
      "the length after iteration is 0.9999999999999998\n",
      "\n",
      "after step 2\n",
      "the list of elements is\n",
      "-0.088 0.972 -0.088 -0.088 -0.088 -0.088 -0.088 -0.088 \n",
      "the length after iteration is 0.9999999999999999\n",
      "\n",
      "after step 3\n",
      "the list of elements is\n",
      "-0.309 0.575 -0.309 -0.309 -0.309 -0.309 -0.309 -0.309 \n",
      "the length after iteration is 1.0000000000000002\n",
      "\n",
      "after step 4\n",
      "the list of elements is\n",
      "-0.376 -0.11 -0.376 -0.376 -0.376 -0.376 -0.376 -0.376 \n",
      "the length after iteration is 1.0000000000000002\n",
      "\n",
      "after step 5\n",
      "the list of elements is\n",
      "-0.254 -0.74 -0.254 -0.254 -0.254 -0.254 -0.254 -0.254 \n",
      "the length after iteration is 1.0000000000000002\n",
      "\n",
      "after step 6\n",
      "the list of elements is\n",
      "-0.006 -1.0 -0.006 -0.006 -0.006 -0.006 -0.006 -0.006 \n",
      "the length after iteration is 1.0\n",
      "\n",
      "after step 7\n",
      "the list of elements is\n",
      "0.246 -0.76 0.246 0.246 0.246 0.246 0.246 0.246 \n",
      "the length after iteration is 0.9999999999999998\n",
      "\n",
      "after step 8\n",
      "the list of elements is\n",
      "0.374 -0.139 0.374 0.374 0.374 0.374 0.374 0.374 \n",
      "the length after iteration is 1.0000000000000002\n",
      "\n",
      "after step 9\n",
      "the list of elements is\n",
      "0.316 0.55 0.316 0.316 0.316 0.316 0.316 0.316 \n",
      "the length after iteration is 1.0000000000000002\n",
      "\n",
      "after step 10\n",
      "the list of elements is\n",
      "0.099 0.965 0.099 0.099 0.099 0.099 0.099 0.099 \n",
      "the length after iteration is 1.0000000000000004\n",
      "\n",
      "after step 11\n",
      "the list of elements is\n",
      "-0.167 0.897 -0.167 -0.167 -0.167 -0.167 -0.167 -0.167 \n",
      "the length after iteration is 1.0000000000000004\n",
      "\n",
      "after step 12\n",
      "the list of elements is\n",
      "-0.349 0.381 -0.349 -0.349 -0.349 -0.349 -0.349 -0.349 \n",
      "the length after iteration is 1.0000000000000002\n",
      "\n",
      "after step 13\n",
      "the list of elements is\n",
      "-0.357 -0.326 -0.357 -0.357 -0.357 -0.357 -0.357 -0.357 \n",
      "the length after iteration is 1.0000000000000002\n",
      "\n",
      "after step 14\n",
      "the list of elements is\n",
      "-0.186 -0.87 -0.186 -0.186 -0.186 -0.186 -0.186 -0.186 \n",
      "the length after iteration is 1.0000000000000002\n",
      "\n",
      "after step 15\n",
      "the list of elements is\n",
      "0.078 -0.979 0.078 0.078 0.078 0.078 0.078 0.078 \n",
      "the length after iteration is 1.0000000000000002\n",
      "\n",
      "after step 16\n",
      "the list of elements is\n",
      "0.303 -0.598 0.303 0.303 0.303 0.303 0.303 0.303 \n",
      "the length after iteration is 1.0\n",
      "\n",
      "after step 17\n",
      "the list of elements is\n",
      "0.377 0.081 0.377 0.377 0.377 0.377 0.377 0.377 \n",
      "the length after iteration is 1.0\n",
      "\n",
      "after step 18\n",
      "the list of elements is\n",
      "0.262 0.72 0.262 0.262 0.262 0.262 0.262 0.262 \n",
      "the length after iteration is 1.0\n",
      "\n",
      "after step 19\n",
      "the list of elements is\n",
      "0.017 0.999 0.017 0.017 0.017 0.017 0.017 0.017 \n",
      "the length after iteration is 1.0\n",
      "\n",
      "after step 20\n",
      "the list of elements is\n",
      "-0.237 0.778 -0.237 -0.237 -0.237 -0.237 -0.237 -0.237 \n",
      "the length after iteration is 1.0000000000000002\n",
      "Iterations: [0, 1, 2, 3, 4, 5, 6, 7, 8, 9, 10, 11, 12, 13, 14, 15, 16, 17, 18, 19, 20]\n",
      "Values = [0.35355339059327373, 0.8838834764831842, 0.9722718241315027, 0.5745242597140696, -0.1104854345603985, -0.7402524115546674, -0.9998931827716024, -0.7595873626027363, -0.139487861132502, 0.5503555709039835, 0.9650212174884772, 0.8971762553287325, 0.3807431655046215, -0.32606150707180015, -0.8698354261123217, -0.9786916320966824, -0.598202022032702, 0.0813885990476293, 0.720284920604146, 0.9990387818585895, 0.7782732521837383]\n"
     ]
    },
    {
     "data": {
      "image/png": "[encoded data removed]",
      "text/plain": [
       "<Figure size 640x480 with 1 Axes>"
      ]
     },
     "metadata": {},
     "output_type": "display_data"
    }
   ],
   "source": [
    "#\n",
    "# your code is here\n",
    "#\n",
    "def print_list(L, precision):\n",
    "    out = ''\n",
    "    for i in range(len(L)):\n",
    "        out += str(round(L[i], precision))+ ' '\n",
    "    print(out)\n",
    "\n",
    "from matplotlib.pyplot import bar\n",
    "elements = []\n",
    "for i in range(8):\n",
    "    elements += [1/pow(8, 0.5)]\n",
    "marked_elements = [1]\n",
    "iterations = []\n",
    "L = []\n",
    "iterations.append(0)\n",
    "L.append(elements[marked_elements[0]])\n",
    "print(\"Step 0\")\n",
    "print(\"the list of elements is\")\n",
    "print_list(elements, 3)\n",
    "print(\"the initial length\", length(elements))\n",
    "for step in range(20):\n",
    "    iterations.append(step+1)\n",
    "    elements = query(elements, marked_elements)\n",
    "    elements = inversion(elements)\n",
    "    print()\n",
    "    print(\"after step\", step + 1)\n",
    "    print(\"the list of elements is\")\n",
    "    print_list(elements, 3)\n",
    "    print(\"the length after iteration is\", length(elements))\n",
    "    L.append(elements[marked_elements[0]])\n",
    "bar(iterations, L)\n",
    "print('Iterations:', iterations)\n",
    "print('Values =', L)"
   ]
  },
  {
   "cell_type": "markdown",
   "metadata": {},
   "source": [
    "<a href=\"Q84_Inversion_About_the_Mean_Solutions.ipynb#task8\">click for our solution</a>"
   ]
  },
  {
   "cell_type": "markdown",
   "metadata": {},
   "source": [
    "<h3> Task 9</h3>\n",
    "\n",
    "Repeat Task 8 for $ N = 16 $ where the first 12 elements are marked."
   ]
  },
  {
   "cell_type": "code",
   "execution_count": 25,
   "metadata": {},
   "outputs": [
    {
     "name": "stdout",
     "output_type": "stream",
     "text": [
      "Step 0\n",
      "the list of elements is\n",
      "0.354 0.354 0.354 0.354 0.354 0.354 0.354 0.354 0.354 0.354 0.354 0.354 0.354 0.354 0.354 0.354 \n",
      "the initial length 1.414213562373095\n",
      "\n",
      "after step 1\n",
      "the list of elements is\n",
      "0.0 0.0 0.0 0.0 0.0 0.0 0.0 0.0 0.0 0.0 0.0 0.0 -0.707 -0.707 -0.707 -0.707 \n",
      "the length after iteration is 1.414213562373095\n",
      "\n",
      "after step 2\n",
      "the list of elements is\n",
      "-0.354 -0.354 -0.354 -0.354 -0.354 -0.354 -0.354 -0.354 -0.354 -0.354 -0.354 -0.354 0.354 0.354 0.354 0.354 \n",
      "the length after iteration is 1.414213562373095\n",
      "\n",
      "after step 3\n",
      "the list of elements is\n",
      "0.354 0.354 0.354 0.354 0.354 0.354 0.354 0.354 0.354 0.354 0.354 0.354 0.354 0.354 0.354 0.354 \n",
      "the length after iteration is 1.414213562373096\n",
      "\n",
      "after step 4\n",
      "the list of elements is\n",
      "0.0 0.0 0.0 0.0 0.0 0.0 0.0 0.0 0.0 0.0 0.0 0.0 -0.707 -0.707 -0.707 -0.707 \n",
      "the length after iteration is 1.4142135623730958\n",
      "\n",
      "after step 5\n",
      "the list of elements is\n",
      "-0.354 -0.354 -0.354 -0.354 -0.354 -0.354 -0.354 -0.354 -0.354 -0.354 -0.354 -0.354 0.354 0.354 0.354 0.354 \n",
      "the length after iteration is 1.414213562373096\n",
      "\n",
      "after step 6\n",
      "the list of elements is\n",
      "0.354 0.354 0.354 0.354 0.354 0.354 0.354 0.354 0.354 0.354 0.354 0.354 0.354 0.354 0.354 0.354 \n",
      "the length after iteration is 1.414213562373096\n",
      "\n",
      "after step 7\n",
      "the list of elements is\n",
      "0.0 0.0 0.0 0.0 0.0 0.0 0.0 0.0 0.0 0.0 0.0 0.0 -0.707 -0.707 -0.707 -0.707 \n",
      "the length after iteration is 1.4142135623730958\n",
      "\n",
      "after step 8\n",
      "the list of elements is\n",
      "-0.354 -0.354 -0.354 -0.354 -0.354 -0.354 -0.354 -0.354 -0.354 -0.354 -0.354 -0.354 0.354 0.354 0.354 0.354 \n",
      "the length after iteration is 1.414213562373096\n",
      "\n",
      "after step 9\n",
      "the list of elements is\n",
      "0.354 0.354 0.354 0.354 0.354 0.354 0.354 0.354 0.354 0.354 0.354 0.354 0.354 0.354 0.354 0.354 \n",
      "the length after iteration is 1.414213562373096\n",
      "\n",
      "after step 10\n",
      "the list of elements is\n",
      "0.0 0.0 0.0 0.0 0.0 0.0 0.0 0.0 0.0 0.0 0.0 0.0 -0.707 -0.707 -0.707 -0.707 \n",
      "the length after iteration is 1.4142135623730958\n",
      "\n",
      "after step 11\n",
      "the list of elements is\n",
      "-0.354 -0.354 -0.354 -0.354 -0.354 -0.354 -0.354 -0.354 -0.354 -0.354 -0.354 -0.354 0.354 0.354 0.354 0.354 \n",
      "the length after iteration is 1.414213562373096\n",
      "\n",
      "after step 12\n",
      "the list of elements is\n",
      "0.354 0.354 0.354 0.354 0.354 0.354 0.354 0.354 0.354 0.354 0.354 0.354 0.354 0.354 0.354 0.354 \n",
      "the length after iteration is 1.414213562373096\n",
      "\n",
      "after step 13\n",
      "the list of elements is\n",
      "0.0 0.0 0.0 0.0 0.0 0.0 0.0 0.0 0.0 0.0 0.0 0.0 -0.707 -0.707 -0.707 -0.707 \n",
      "the length after iteration is 1.4142135623730958\n",
      "\n",
      "after step 14\n",
      "the list of elements is\n",
      "-0.354 -0.354 -0.354 -0.354 -0.354 -0.354 -0.354 -0.354 -0.354 -0.354 -0.354 -0.354 0.354 0.354 0.354 0.354 \n",
      "the length after iteration is 1.414213562373096\n",
      "\n",
      "after step 15\n",
      "the list of elements is\n",
      "0.354 0.354 0.354 0.354 0.354 0.354 0.354 0.354 0.354 0.354 0.354 0.354 0.354 0.354 0.354 0.354 \n",
      "the length after iteration is 1.414213562373096\n",
      "\n",
      "after step 16\n",
      "the list of elements is\n",
      "0.0 0.0 0.0 0.0 0.0 0.0 0.0 0.0 0.0 0.0 0.0 0.0 -0.707 -0.707 -0.707 -0.707 \n",
      "the length after iteration is 1.4142135623730958\n",
      "\n",
      "after step 17\n",
      "the list of elements is\n",
      "-0.354 -0.354 -0.354 -0.354 -0.354 -0.354 -0.354 -0.354 -0.354 -0.354 -0.354 -0.354 0.354 0.354 0.354 0.354 \n",
      "the length after iteration is 1.414213562373096\n",
      "\n",
      "after step 18\n",
      "the list of elements is\n",
      "0.354 0.354 0.354 0.354 0.354 0.354 0.354 0.354 0.354 0.354 0.354 0.354 0.354 0.354 0.354 0.354 \n",
      "the length after iteration is 1.414213562373096\n",
      "\n",
      "after step 19\n",
      "the list of elements is\n",
      "0.0 0.0 0.0 0.0 0.0 0.0 0.0 0.0 0.0 0.0 0.0 0.0 -0.707 -0.707 -0.707 -0.707 \n",
      "the length after iteration is 1.4142135623730958\n",
      "\n",
      "after step 20\n",
      "the list of elements is\n",
      "-0.354 -0.354 -0.354 -0.354 -0.354 -0.354 -0.354 -0.354 -0.354 -0.354 -0.354 -0.354 0.354 0.354 0.354 0.354 \n",
      "the length after iteration is 1.414213562373096\n",
      "Iterations: [0, 1, 2, 3, 4, 5, 6, 7, 8, 9, 10, 11, 12, 13, 14, 15, 16, 17, 18, 19, 20]\n",
      "Values = [0.35355339059327373, 0.0, -0.35355339059327373, 0.35355339059327395, 0.0, -0.35355339059327395, 0.35355339059327395, 0.0, -0.35355339059327395, 0.35355339059327395, 0.0, -0.35355339059327395, 0.35355339059327395, 0.0, -0.35355339059327395, 0.35355339059327395, 0.0, -0.35355339059327395, 0.35355339059327395, 0.0, -0.35355339059327395]\n"
     ]
    },
    {
     "data": {
      "image/png": "[encoded data removed]",
      "text/plain": [
       "<Figure size 640x480 with 1 Axes>"
      ]
     },
     "metadata": {},
     "output_type": "display_data"
    }
   ],
   "source": [
    "#\n",
    "# your code is here\n",
    "#\n",
    "from matplotlib.pyplot import bar\n",
    "elements = []\n",
    "for i in range(16):\n",
    "    elements += [1/pow(8, 0.5)]\n",
    "marked_elements = range(12)\n",
    "iterations = []\n",
    "L = []\n",
    "iterations.append(0)\n",
    "L.append(elements[marked_elements[0]])\n",
    "print(\"Step 0\")\n",
    "print(\"the list of elements is\")\n",
    "print_list(elements, 3)\n",
    "print(\"the initial length\", length(elements))\n",
    "for step in range(20):\n",
    "    iterations.append(step+1)\n",
    "    elements = query(elements, marked_elements)\n",
    "    elements = inversion(elements)\n",
    "    print()\n",
    "    print(\"after step\", step + 1)\n",
    "    print(\"the list of elements is\")\n",
    "    print_list(elements, 3)\n",
    "    print(\"the length after iteration is\", length(elements))\n",
    "    L.append(elements[marked_elements[0]])\n",
    "bar(iterations, L)\n",
    "print('Iterations:', iterations)\n",
    "print('Values =', L)"
   ]
  },
  {
   "cell_type": "markdown",
   "metadata": {},
   "source": [
    "<a href=\"Q84_Inversion_About_the_Mean_Solutions.ipynb#task9\">click for our solution</a>"
   ]
  },
  {
   "cell_type": "markdown",
   "metadata": {},
   "source": [
    "## Grover's quantum search algorithm\n",
    "\n",
    "The modified game is the main part of Grover's quantum search algorithm.\n",
    "\n",
    "Suppose that we are given an unordered list and we make a search of a specific element called as marked.\n",
    "- We access the list via an oracle: we can make queries to the list.\n",
    "- If there are $ N $ elements in the list, we use $ \\log(N) $ qubits. (Assume that $N$ is a power of 2.) \n",
    "- Each basis state, i.e., $ \\ket{0 \\cdots 0}, \\ldots, \\ket{1 \\cdots 1} $, corresponds to an index of the list.\n",
    "- If the searched element is detected, then the oracle flips the sign of the corresponding amplitude.\n",
    "\n",
    "<i style=\"color:blue;\">Remark that, in the above games, we simulate the oracle with the pre-knowledge of marked element(s). In the real implementation, the oracle should have a quantum mechanism detecting the marked elements while being in a superposition of all indices, and then the sign(s) of the corresponding amplitude(s) is (are) flipped automatically. This is indeed the main technological challenge for implementing Grover's search algorithm.</i>\n",
    "\n",
    "At the beginning, Hadamard operator is applied to each qubit. Thus, the amplitude of each basis state is set to $ \\frac{1}{\\sqrt{N}} $.\n",
    "- We can interpret this as all elements start the game with the same amplitude.\n",
    "- Then, the game starts to iterate, and the amplitudes of marked and unmarked elements are changed."
   ]
  },
  {
   "cell_type": "markdown",
   "metadata": {},
   "source": [
    "<h4> The number of iterations </h4>\n",
    "\n",
    "When the number of marked elements are less than the unmarked elements, the amplitudes of marked elements start to increase. \n",
    "\n",
    "Then, we reach the first peak such that the probability of observing a marked element takes its maximum value. \n",
    "\n",
    "After passing this point, the amplitudes of marked elements start to decrease."
   ]
  },
  {
   "cell_type": "markdown",
   "metadata": {},
   "source": [
    "<h4> Phases </h4>\n",
    "\n",
    "The operator in each phase is unitary (linear).\n",
    "\n",
    "The unitary matrix in the query phase depends on the input, but the unitary operator in the inversion phase does not depend on the input.\n",
    "\n",
    "<b>In the query phase</b>, the amplitudes of the marked elements change sign.  \n",
    "\n",
    "<b>In the inversion phase</b>, for each amplitude $ x $, the new value is calculated as $ mean - (x - mean) = 2mean -x $.\n",
    "\n",
    "The mean of a column vector of size $ N $ can be calculated by multiplying it with the following row vector from the left:\n",
    "\n",
    "$$  \\myvector{ \\frac{1}{N} ~~ \\frac{1}{N} ~~ \\cdots ~~ \\frac{1}{N}} . $$\n",
    "\n",
    "\n",
    "When considering all elements in the list, we work with a matrix. The matrix for the second phase should be \n",
    "\n",
    "$$ D = 2 \\mymatrix{ccc}{\n",
    "    \\frac{1}{N}  & \\cdots & \\frac{1}{N} \\\\ \n",
    "    \\vdots & \\ddots & \\vdots \\\\\n",
    "    \\frac{1}{N}  & \\cdots & \\frac{1}{N} \\\\ \n",
    "    } \n",
    "- I . $$"
   ]
  },
  {
   "cell_type": "markdown",
   "metadata": {},
   "source": [
    "<h3> Task 10</h3>\n",
    "\n",
    "Convince yourself that $ D \\myvector{x_1 \\\\ \\vdots \\\\ x_N} = \\myvector{ 2m-x_1 \\\\ \\vdots \\\\ 2m-x_N } $, where $ m = \\dfrac{ \\sum_{i=1}^N x_i } { N} $."
   ]
  },
  {
   "cell_type": "markdown",
   "metadata": {},
   "source": [
    "<h3> Task 11</h3>\n",
    "\n",
    "Let $ A =  \\mymatrix{ccc}{\n",
    "    \\frac{1}{N}  & \\cdots & \\frac{1}{N} \\\\ \n",
    "    \\vdots & \\ddots & \\vdots \\\\\n",
    "    \\frac{1}{N}  & \\cdots & \\frac{1}{N} \\\\ \n",
    "    }  $. \n",
    "Convince yourself that $ A^2 = A $ and $ D^T = D $.\n",
    "\n",
    "Since $ D = 2A - I $, convince yourself that $ D $ is unitary by showing that $ D^T \\cdot D = I $, i.e., $ (2A-I)(2A-I) = I $."
   ]
  },
  {
   "cell_type": "markdown",
   "metadata": {},
   "source": [
    "## General form of Grover's search algorithm\n",
    "\n",
    "Let's assume that there are $N=2^n$ elements in a list $L$, and one of the elements is marked. \n",
    "\n",
    "Suppose that there exists a function $f$ whose domain is $L$ with the following properties:\n",
    "\\begin{align*}\n",
    "f(x)&=1 &\\mbox{ if $x$ is marked}\\\\\n",
    "f(x)&=0 &\\mbox{ otherwise}\n",
    "\\end{align*}\n",
    "\n",
    "Grover's algorithm can also be defined in more general form: for the given function $f$, it finds the element $x$ such that $f(x)=1$.\n",
    "\n",
    "_Do you see how does this correspond to finding the marked element?_"
   ]
  },
  {
   "cell_type": "markdown",
   "metadata": {},
   "source": [
    "We access the list by querying $f$, which will be called the <font color=\"blue\">oracle</font>.\n",
    "\n",
    "Normally, in the worst case you would have to query $f$ for all possible inputs to find $x$ satisfying $f(x)=1$ which has <font color=\"blue\"> query complexity </font>$O(N)$. \n",
    "\n",
    "Grover's algorithm is able to perform the same task only with $O(\\sqrt{N})$ queries.\n",
    "\n",
    "(<i>$O(N)$ is Big O notation. Please check the definition if you are seeing it for the first time.</i>)\n",
    "\n",
    "**Remark:** The algorithm works if there are multiple marked elements but we assume that only 1 element is marked for simplicity."
   ]
  },
  {
   "cell_type": "markdown",
   "metadata": {},
   "source": [
    "### Example\n",
    "\n",
    "Grover's algorithm is not restricted to a list. You can apply it to any search space as long as you can construct such a function $f$. Consider the picture below. A, B, C and D are the cities and the numbers represent the distance between them.\n",
    "\n",
    "<img src=\"images/tsp.png\" width=\"300\">\n",
    "\n",
    "**Question:** <i>Starting in A, does there exist a path of distance < 900 which visits all cities exactly once and returns to A?</i>\n",
    "\n",
    "This is known as the decision version of Traveling Salesman Problem. In this example the search space consists of all possible routes such as ABDCA, ACBDA, ABCDA etc. and our aim is to find the route whose total distance is < 900.\n",
    "\n",
    "Check ABCDA. The total distance is 800 which satisfies the condition. If you want to design $f$ for this problem, $f(\\text{ABCDA})=1$ and $f(x)=0$ for all other routes. \n",
    "\n",
    "**How can you construct such an $f$ ?** \n",
    "\n",
    "Add the distances between each pair of cities and output 1 if the total distance is less than 900 and 0 otherwise. Note that we don't need to know anything about the solution to implement $f$.\n",
    "\n",
    "Of course you should be able to design such an $f$ in the quantum setting if you want to apply Grover's Search and it is not always an easy task. \n",
    "\n",
    "**How does Grover's Search help in this problem?** \n",
    "\n",
    "Checking all routes one by one is a long procedure. But given a route, you can easily check if the total distance satisfies the condition. Instead of checking all routes one by one and querying $f$ for each route, it is enough to make square root queries if you use Grover's Search.\n",
    "\n",
    "Check this [link](https://github.com/quantum-challenge/2019/blob/master/problems/final/Final_en.ipynb) to see another example."
   ]
  }
 ],
 "metadata": {
  "kernelspec": {
   "display_name": "Python 3 (ipykernel)",
   "language": "python",
   "name": "python3"
  },
  "language_info": {
   "codemirror_mode": {
    "name": "ipython",
    "version": 3
   },
   "file_extension": ".py",
   "mimetype": "text/x-python",
   "name": "python",
   "nbconvert_exporter": "python",
   "pygments_lexer": "ipython3",
   "version": "3.11.6"
  }
 },
 "nbformat": 4,
 "nbformat_minor": 4
}
